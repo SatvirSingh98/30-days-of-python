{
 "cells": [
  {
   "cell_type": "code",
   "execution_count": 1,
   "id": "altered-explanation",
   "metadata": {},
   "outputs": [],
   "source": [
    "import requests\n",
    "import os\n",
    "from requests_html import HTML\n",
    "from selenium import webdriver\n",
    "from selenium.webdriver.firefox.options import Options"
   ]
  },
  {
   "cell_type": "code",
   "execution_count": 2,
   "id": "answering-ceramic",
   "metadata": {},
   "outputs": [],
   "source": [
    "cwd = os.getcwd()\n",
    "BASE_DIR = os.path.dirname(cwd)\n",
    "GECKODRIVER_DIR = os.path.join(BASE_DIR, '.geckodriver-firefox')\n",
    "GECKODRIVER_PATH = os.path.join(GECKODRIVER_DIR, 'geckodriver')"
   ]
  },
  {
   "cell_type": "code",
   "execution_count": 3,
   "id": "atmospheric-elephant",
   "metadata": {},
   "outputs": [],
   "source": [
    "options = Options()\n",
    "options.add_argument('--headless')\n",
    "driver = webdriver.Firefox(executable_path=GECKODRIVER_PATH, options=options)"
   ]
  },
  {
   "cell_type": "code",
   "execution_count": 4,
   "id": "completed-assessment",
   "metadata": {},
   "outputs": [],
   "source": [
    "url = 'https://www.amazon.in/dp/B08L5VG843?th=1'\n",
    "title_lookup = '#productTitle'\n",
    "deal_price_lookup = '#priceblock_dealprice'"
   ]
  },
  {
   "cell_type": "code",
   "execution_count": 5,
   "id": "intellectual-minister",
   "metadata": {
    "scrolled": true
   },
   "outputs": [],
   "source": [
    "# requests does not work on amazon\n",
    "# r = requests.get(url)\n",
    "# html_txt = r.text\n",
    "# print(html_txt)\n",
    "\n",
    "driver.get(url)\n",
    "body_element = driver.find_element_by_css_selector('body')\n",
    "html_txt = body_element.get_attribute('innerHTML')"
   ]
  },
  {
   "cell_type": "code",
   "execution_count": 6,
   "id": "synthetic-lawsuit",
   "metadata": {},
   "outputs": [],
   "source": [
    "html_obj = HTML(html=html_txt)"
   ]
  },
  {
   "cell_type": "code",
   "execution_count": 7,
   "id": "french-dragon",
   "metadata": {},
   "outputs": [
    {
     "data": {
      "text/plain": [
       "<Element 'span' id='productTitle' class=('a-size-large', 'product-title-word-break')>"
      ]
     },
     "execution_count": 7,
     "metadata": {},
     "output_type": "execute_result"
    }
   ],
   "source": [
    "html_obj.find(title_lookup, first=True)"
   ]
  },
  {
   "cell_type": "code",
   "execution_count": 8,
   "id": "separate-entertainment",
   "metadata": {},
   "outputs": [
    {
     "name": "stdout",
     "output_type": "stream",
     "text": [
      "Apple iPhone 12 Mini Black, 128GB Storage\n"
     ]
    }
   ],
   "source": [
    "product_title = html_obj.find(title_lookup, first=True).text\n",
    "print(product_title)"
   ]
  },
  {
   "cell_type": "code",
   "execution_count": 9,
   "id": "arranged-volleyball",
   "metadata": {},
   "outputs": [
    {
     "name": "stdout",
     "output_type": "stream",
     "text": [
      "₹ 71,900.00\n"
     ]
    }
   ],
   "source": [
    "product_price = html_obj.find(deal_price_lookup, first=True).text\n",
    "print(product_price)"
   ]
  },
  {
   "cell_type": "code",
   "execution_count": null,
   "id": "moving-newton",
   "metadata": {},
   "outputs": [],
   "source": []
  }
 ],
 "metadata": {
  "kernelspec": {
   "display_name": "Python 3",
   "language": "python",
   "name": "python3"
  },
  "language_info": {
   "codemirror_mode": {
    "name": "ipython",
    "version": 3
   },
   "file_extension": ".py",
   "mimetype": "text/x-python",
   "name": "python",
   "nbconvert_exporter": "python",
   "pygments_lexer": "ipython3",
   "version": "3.8.5"
  }
 },
 "nbformat": 4,
 "nbformat_minor": 5
}
