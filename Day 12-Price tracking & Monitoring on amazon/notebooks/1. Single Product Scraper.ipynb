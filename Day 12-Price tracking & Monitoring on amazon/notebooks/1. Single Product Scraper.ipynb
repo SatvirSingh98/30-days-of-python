{
 "cells": [
  {
   "cell_type": "code",
   "execution_count": 1,
   "source": [
    "import requests\n",
    "import os\n",
    "from requests_html import HTML\n",
    "from selenium import webdriver\n",
    "from selenium.webdriver.chrome.options import Options"
   ],
   "outputs": [],
   "metadata": {}
  },
  {
   "cell_type": "code",
   "execution_count": null,
   "source": [
    "cwd = os.getcwd()\n",
    "BASE_DIR = os.path.dirname(cwd)\n",
    "CHROMEDRIVER_DIR = os.path.join(BASE_DIR, '.chromedriver')\n",
    "CHROMEDRIVER_PATH = os.path.join(CHROMEDRIVER_DIR, 'chromedriver')"
   ],
   "outputs": [],
   "metadata": {}
  },
  {
   "cell_type": "code",
   "execution_count": 3,
   "source": [
    "options = Options()\n",
    "options.add_argument('--headless')\n",
    "driver = webdriver.Firefox(executable_path=CHROMEDRIVER_PATH, options=options)"
   ],
   "outputs": [],
   "metadata": {}
  },
  {
   "cell_type": "code",
   "execution_count": 4,
   "source": [
    "url = 'https://www.amazon.in/dp/B08L5VG843?th=1'\n",
    "title_lookup = '#productTitle'\n",
    "deal_price_lookup = '#priceblock_dealprice'"
   ],
   "outputs": [],
   "metadata": {}
  },
  {
   "cell_type": "code",
   "execution_count": 5,
   "source": [
    "# requests does not work on amazon\n",
    "# r = requests.get(url)\n",
    "# html_txt = r.text\n",
    "# print(html_txt)\n",
    "\n",
    "driver.get(url)\n",
    "body_element = driver.find_element_by_css_selector('body')\n",
    "html_txt = body_element.get_attribute('innerHTML')"
   ],
   "outputs": [],
   "metadata": {
    "scrolled": true
   }
  },
  {
   "cell_type": "code",
   "execution_count": 6,
   "source": [
    "html_obj = HTML(html=html_txt)"
   ],
   "outputs": [],
   "metadata": {}
  },
  {
   "cell_type": "code",
   "execution_count": 7,
   "source": [
    "html_obj.find(title_lookup, first=True)"
   ],
   "outputs": [
    {
     "output_type": "execute_result",
     "data": {
      "text/plain": [
       "<Element 'span' id='productTitle' class=('a-size-large', 'product-title-word-break')>"
      ]
     },
     "metadata": {},
     "execution_count": 7
    }
   ],
   "metadata": {}
  },
  {
   "cell_type": "code",
   "execution_count": 8,
   "source": [
    "product_title = html_obj.find(title_lookup, first=True).text\n",
    "print(product_title)"
   ],
   "outputs": [
    {
     "output_type": "stream",
     "name": "stdout",
     "text": [
      "Apple iPhone 12 Mini Black, 128GB Storage\n"
     ]
    }
   ],
   "metadata": {}
  },
  {
   "cell_type": "code",
   "execution_count": 9,
   "source": [
    "product_price = html_obj.find(deal_price_lookup, first=True).text\n",
    "print(product_price)"
   ],
   "outputs": [
    {
     "output_type": "stream",
     "name": "stdout",
     "text": [
      "₹ 71,900.00\n"
     ]
    }
   ],
   "metadata": {}
  },
  {
   "cell_type": "code",
   "execution_count": null,
   "source": [],
   "outputs": [],
   "metadata": {}
  }
 ],
 "metadata": {
  "kernelspec": {
   "name": "python3",
   "display_name": "Python 3.9.6 64-bit ('30-days-of-python-TxPmkj6s': pipenv)"
  },
  "language_info": {
   "codemirror_mode": {
    "name": "ipython",
    "version": 3
   },
   "file_extension": ".py",
   "mimetype": "text/x-python",
   "name": "python",
   "nbconvert_exporter": "python",
   "pygments_lexer": "ipython3",
   "version": "3.9.6"
  },
  "interpreter": {
   "hash": "f262ef2fa850987d22f32c5a0b1436ff5e58f0cd3992a0b52fa8d8f1f1bfd8fe"
  }
 },
 "nbformat": 4,
 "nbformat_minor": 5
}
