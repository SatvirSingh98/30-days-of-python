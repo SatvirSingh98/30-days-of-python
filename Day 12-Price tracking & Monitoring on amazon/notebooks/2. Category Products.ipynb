{
 "cells": [
  {
   "cell_type": "code",
   "execution_count": 1,
   "id": "cheap-balance",
   "metadata": {},
   "outputs": [],
   "source": [
    "import os\n",
    "from time import sleep\n",
    "from requests_html import HTML\n",
    "from selenium import webdriver\n",
    "from selenium.webdriver.firefox.options import Options"
   ]
  },
  {
   "cell_type": "code",
   "execution_count": 2,
   "id": "improving-biodiversity",
   "metadata": {},
   "outputs": [],
   "source": [
    "cwd = os.getcwd()\n",
    "BASE_DIR = os.path.dirname(cwd)\n",
    "GECKODRIVER_DIR = os.path.join(BASE_DIR, '.geckodriver-firefox')\n",
    "GECKODRIVER_PATH = os.path.join(GECKODRIVER_DIR, 'geckodriver')"
   ]
  },
  {
   "cell_type": "code",
   "execution_count": 3,
   "id": "basic-tanzania",
   "metadata": {},
   "outputs": [],
   "source": [
    "options = Options()\n",
    "options.add_argument('--headless')\n",
    "driver = webdriver.Firefox(executable_path=GECKODRIVER_PATH, options=options)"
   ]
  },
  {
   "cell_type": "code",
   "execution_count": 4,
   "id": "cardiac-christian",
   "metadata": {},
   "outputs": [],
   "source": [
    "categories = [\n",
    "    'https://www.amazon.in/gp/bestsellers/gift-cards/',\n",
    "    'https://www.amazon.in/gp/bestsellers/videogames/',\n",
    "    'https://www.amazon.in/gp/bestsellers/electronics/',\n",
    "]"
   ]
  },
  {
   "cell_type": "code",
   "execution_count": 5,
   "id": "essential-mount",
   "metadata": {},
   "outputs": [],
   "source": [
    "first_url = categories[1]"
   ]
  },
  {
   "cell_type": "code",
   "execution_count": 6,
   "id": "alien-mainland",
   "metadata": {},
   "outputs": [],
   "source": [
    "driver.get(first_url)"
   ]
  },
  {
   "cell_type": "code",
   "execution_count": 7,
   "id": "continental-summer",
   "metadata": {},
   "outputs": [],
   "source": [
    "body_element = driver.find_element_by_css_selector('body')\n",
    "html_txt = body_element.get_attribute('innerHTML')"
   ]
  },
  {
   "cell_type": "code",
   "execution_count": 8,
   "id": "secret-cooper",
   "metadata": {},
   "outputs": [],
   "source": [
    "html_obj = HTML(html=html_txt)"
   ]
  },
  {
   "cell_type": "code",
   "execution_count": 9,
   "id": "serious-hunter",
   "metadata": {},
   "outputs": [],
   "source": [
    "new_links = [link for link in html_obj.links if link.startswith('/')]\n",
    "\n",
    "# cleaned up links\n",
    "new_links = [link for link in new_links if \"product-reviews/\" not in link]"
   ]
  },
  {
   "cell_type": "code",
   "execution_count": 10,
   "id": "aggressive-animation",
   "metadata": {},
   "outputs": [],
   "source": [
    "page_links = [f\"https://www.amazon.in{x}\" for x in new_links]"
   ]
  },
  {
   "cell_type": "code",
   "execution_count": 11,
   "id": "creative-acrylic",
   "metadata": {},
   "outputs": [
    {
     "name": "stdout",
     "output_type": "stream",
     "text": [
      "['https://www.amazon.in/Rs-3000-Sony-PlayStation-Network-Delivery/dp/B07K6PVR8B/ref=zg_bs_videogames_37/260-6238715-2286833?_encoding=UTF8&psc=1&refRID=GMZY5GJ34XVK67CGGA02', 'https://www.amazon.in/gcx/-/gfhz/?ref_=nav_cs_giftfinder_58f3a96b9747402884d8f629e69ebd28', 'https://www.amazon.in/pc-games/b/?ie=UTF8&node=1376518031&ref_=sv_v_5', 'https://www.amazon.in/health-and-personal-care/b/?ie=UTF8&node=1350384031&ref_=nav_cs_hpc_a024fc7ba9174802831aed18bbebb33d', 'https://www.amazon.in/business?ref=footer_aingw', 'https://www.amazon.in/music/prime?ref=footer_apm', 'https://www.amazon.in/gp/browse.html?node=3704992031&ref_=nav_cs_hi_b183765d90844c95b998beab0377167a', 'https://www.amazon.in/b?ie=UTF8&node=8872558031&ref_=footer_cares', 'https://www.amazon.in/gp/help/customer/display.html?ie=UTF8&nodeId=GDFU3JS5AL6SYHRD&ref_=footer_covid', 'https://www.amazon.in/WAR-HAMMER-GX1050-Gaming-Mousepad/dp/B07XTPKPTH/ref=zg_bs_videogames_17/260-6238715-2286833?_encoding=UTF8&psc=1&refRID=GMZY5GJ34XVK67CGGA02', 'https://www.amazon.in/pre-orders-new-releases-books/b/?ie=UTF8&node=4069183031&ref_=sv_v_7', 'https://www.amazon.in/Red-Dead-Redemption-2-PS4/dp/B07BFGGNT9/ref=zg_bs_videogames_29/260-6238715-2286833?_encoding=UTF8&psc=1&refRID=GMZY5GJ34XVK67CGGA02', 'https://www.amazon.in/gp/browse.html?node=6648217031&ref_=nav_cs_fashion_ad6f81eb5d474066bc9e5788a3c19a28', 'https://www.amazon.in/Cosmic-Byte-HyperGiant-Speed-Mousepad/dp/B073PG1NYM/ref=zg_bs_videogames_30/260-6238715-2286833?_encoding=UTF8&psc=1&refRID=GMZY5GJ34XVK67CGGA02&smid=A14CZOWI0VEHLG', 'https://www.amazon.in/gp/css/returns/homepage.html?ie=UTF8&ref_=footer_hy_f_4', 'https://www.amazon.in/GSH-DualShock-Controller-PlayStation-Professional/dp/B08G8XDBXZ/ref=zg_bs_videogames_28/260-6238715-2286833?_encoding=UTF8&psc=1&refRID=GMZY5GJ34XVK67CGGA02', 'https://www.amazon.in/Playstation-3/b/?ie=UTF8&node=1376877031&ref_=sv_v_4', 'https://www.amazon.in/2K-Games-WWE-2K20-PS4/dp/B07W6G9SCB/ref=zg_bs_videogames_34/260-6238715-2286833?_encoding=UTF8&psc=1&refRID=GMZY5GJ34XVK67CGGA02', 'https://www.amazon.in/gp/css/order-history?ref_=nav_orders_first', 'https://www.amazon.in/Square-Enix-Marvels-Avengers-PS4/dp/B07YSTD51Q/ref=zg_bs_videogames_42/260-6238715-2286833?_encoding=UTF8&psc=1&refRID=GMZY5GJ34XVK67CGGA02', 'https://www.amazon.in/Tom-Clancys-Ghost-Recon-Breakpoint/dp/B07S1XKYGT/ref=zg_bs_videogames_43/260-6238715-2286833?_encoding=UTF8&psc=1&refRID=GMZY5GJ34XVK67CGGA02', 'https://www.amazon.in/Sony-PlayStation-Network-Delivery-Digital/dp/B07K6PVXJZ/ref=zg_bs_videogames_3/260-6238715-2286833?_encoding=UTF8&psc=1&refRID=GMZY5GJ34XVK67CGGA02', 'https://www.amazon.in/Pet-Supplies/b/?ie=UTF8&node=2454181031&ref_=nav_cs_pets_57065eb9748646eb8c04675172dd0001', 'https://www.amazon.in/PS4-Ghost-of-Tsushima/dp/B085LZSG6F/ref=zg_bs_videogames_24/260-6238715-2286833?_encoding=UTF8&psc=1&refRID=GMZY5GJ34XVK67CGGA02', 'https://www.amazon.in/PUBG-PLAYERUNKNOWNS-BATTLEGROUNDS-Playstation-Required/dp/B07KWC6B87/ref=zg_bs_videogames_41/260-6238715-2286833?_encoding=UTF8&psc=1&refRID=GMZY5GJ34XVK67CGGA02', 'https://www.amazon.in/ref=footer_logo', 'https://www.amazon.in/prime/ref=nav_tooltip_redirect/260-6238715-2286833', 'https://www.amazon.in/PowerA-Officially-Licensed-Controller-Windows/dp/B07NPY1YT5/ref=zg_bs_videogames_12/260-6238715-2286833?_encoding=UTF8&psc=1&refRID=GMZY5GJ34XVK67CGGA02', 'https://www.amazon.in/b/?_encoding=UTF8&ld=AZINSOANavDesktopFooter&node=2838698031&ref_=nav_footer_sell', 'https://www.amazon.in/Controller-Replacement-Battery-Cover-Shell/dp/B00TBB6VMU/ref=zg_bs_videogames_45/260-6238715-2286833?_encoding=UTF8&psc=1&refRID=GMZY5GJ34XVK67CGGA02', 'https://www.amazon.in/gp/help/customer/display.html?ie=UTF8&nodeId=200507590&ref_=footer_gw_m_b_he', 'https://www.amazon.in/b/?node=2838698031&ld=AZINSOANavDesktop&ref_=nav_cs_sell_22c5725860ed46a593b5f97a935ef723', 'https://www.amazon.in/Sony-Uncharted-Collection-Hits-PS4/dp/B07M5V17R9/ref=zg_bs_videogames_39/260-6238715-2286833?_encoding=UTF8&psc=1&refRID=GMZY5GJ34XVK67CGGA02', 'https://www.amazon.in/gp/bestsellers/videogames/?ie=UTF8&ref_=sv_v_8', 'https://www.amazon.in/PS4-Minecraft-Bedrock-Ed/dp/B082KW6F8Z/ref=zg_bs_videogames_33/260-6238715-2286833?_encoding=UTF8&psc=1&refRID=GMZY5GJ34XVK67CGGA02', 'https://www.amazon.in/auto-deliveries/landing?ref_=nav_cs_sns_c630ba0feebb4081b3e5fbd2df39d065', 'https://www.amazon.in/Cosmic-Byte-GS410-Headphones-Grey/dp/B07K7XRJTZ/ref=zg_bs_videogames_10/260-6238715-2286833?_encoding=UTF8&psc=1&refRID=GMZY5GJ34XVK67CGGA02', 'https://www.amazon.in/PS4-Last-Us-Part-II/dp/B07YQ8JMSH/ref=zg_bs_videogames_15/260-6238715-2286833?_encoding=UTF8&psc=1&refRID=GMZY5GJ34XVK67CGGA02', 'https://www.amazon.in/Mitashi-GameIn-Infrazone-Gaming-Console/dp/B007WSOAV8/ref=zg_bs_videogames_18/260-6238715-2286833?_encoding=UTF8&psc=1&refRID=GMZY5GJ34XVK67CGGA02', 'https://www.amazon.in/Spirili-Rechargable-Console-Screen-Classic/dp/B07VC4N1LM/ref=zg_bs_videogames_9/260-6238715-2286833?_encoding=UTF8&psc=1&refRID=GMZY5GJ34XVK67CGGA02', 'https://www.amazon.in/Xbox-Series-S/dp/B08J89D6BW/ref=zg_bs_videogames_21/260-6238715-2286833?_encoding=UTF8&psc=1&refRID=GMZY5GJ34XVK67CGGA02', 'https://www.amazon.in/Books/b/?ie=UTF8&node=976389031&ref_=nav_cs_books_bc600d0d124d40a3909f96904182b45f', 'https://www.amazon.in/Gourmet-Specialty-Foods/b/?ie=UTF8&node=2454178031&ref_=nav_cs_grocery_aaabc3a9e1214048a9a0a73dcc968167', 'https://www.amazon.in/Rs-2500-Sony-PlayStation-Network-Delivery/dp/B07K6QB4NR/ref=zg_bs_videogames_20/260-6238715-2286833?_encoding=UTF8&psc=1&refRID=GMZY5GJ34XVK67CGGA02', 'https://www.amazon.in/Minecraft-Java-Download-Code-Only/dp/B07VMXV8KS/ref=zg_bs_videogames_25/260-6238715-2286833?_encoding=UTF8&psc=1&refRID=GMZY5GJ34XVK67CGGA02', 'https://www.amazon.in/Sports/b/?ie=UTF8&node=1984443031&ref_=nav_cs_sports_8a31b13c38f84bfba386a5c9d1b7615e', 'https://www.amazon.in/AmazonBasics-XXL-Gaming-Mouse-Black/dp/B06VVXMJ1S/ref=zg_bs_videogames_19/260-6238715-2286833?_encoding=UTF8&psc=1&refRID=GMZY5GJ34XVK67CGGA02&smid=AT95IG9ONZD7S', 'https://www.amazon.in/b/?node=6637738031&ref_=nav_cs_amazonbasics_7b323e02d64042408aefc605ff4f5baf', 'https://www.amazon.in/gp/customer-preferences/select-language/ref=footer_lang?ie=UTF8&preferencesReturnUrl=%2Fgp%2Fbestsellers%2Fvideogames%2F', 'https://www.amazon.in/EKSA-E900-Cancelling-Headphones-Compatible/dp/B07MV44RHD/ref=zg_bs_videogames_14/260-6238715-2286833?_encoding=UTF8&psc=1&refRID=GMZY5GJ34XVK67CGGA02', 'https://www.amazon.in/Cosmic-Byte-GS410-Headphones-Black/dp/B07413RMMP/ref=zg_bs_videogames_22/260-6238715-2286833?_encoding=UTF8&psc=1&refRID=GMZY5GJ34XVK67CGGA02', 'https://www.amazon.in/b?ie=UTF8&node=6967393031&ref_=footer_mobapp', 'https://www.amazon.in/video-games/b/?ie=UTF8&node=976460031&ref_=nav_cs_video_games_6da073eac80d4cc188a31f2330c92387', 'https://www.amazon.in/Cosmic-Byte-Dwarf-Speed-Mousepad/dp/B073PFKVWV/ref=zg_bs_videogames_6/260-6238715-2286833?_encoding=UTF8&psc=1&refRID=GMZY5GJ34XVK67CGGA02', 'https://www.amazon.in/gp/help/customer/display.html?ie=UTF8&nodeId=200545940&ref_=footer_cou', 'https://www.amazon.in/beauty/b/?ie=UTF8&node=1355016031&ref_=nav_cs_beauty_6ef19712270447e593a9ddf9a03604d8', 'https://www.amazon.in/Cosmic-Byte-Headphones-Laptop-Android/dp/B074123WSD/ref=zg_bs_videogames_5/260-6238715-2286833?_encoding=UTF8&psc=1&refRID=GMZY5GJ34XVK67CGGA02', 'https://www.amazon.in/Kindle-Store/b/?ie=UTF8&node=1571277031&ref_=nav_cs_kindle_books_fbe4f5e5a26f403a91203de3fe5ab05d', 'https://www.amazon.in/Xbox-360/b/?ie=UTF8&node=1377081031&ref_=sv_v_2', 'https://www.amazon.in/PS4-God-of-War/dp/B07YQ73Y8T/ref=zg_bs_videogames_11/260-6238715-2286833?_encoding=UTF8&psc=1&refRID=GMZY5GJ34XVK67CGGA02', 'https://www.amazon.in/computers-and-accessories/b/?ie=UTF8&node=976392031&ref_=nav_cs_pc_d99b175b1db64d5b968b67ba6e5a72a3', 'https://www.amazon.in/Grand-Theft-V-Premium-PS4/dp/B07D381RDJ/ref=zg_bs_videogames_23/260-6238715-2286833?_encoding=UTF8&psc=1&refRID=GMZY5GJ34XVK67CGGA02', 'https://www.amazon.in/Playstation-4/b/?ie=UTF8&node=2591138031&ref_=sv_v_3', 'https://www.amazon.in/prime?ref_=nav_cs_primelink_nonmember_2860122b63884a8688052dc445e46bd9', 'https://www.amazon.in/SpinBot-BattleMods-Conductive-Triggers-etc-Supports/dp/B0823H4Y4X/ref=zg_bs_videogames_50/260-6238715-2286833?_encoding=UTF8&psc=1&refRID=GMZY5GJ34XVK67CGGA02', 'https://www.amazon.in/gp/bestsellers/?ref_=nav_cs_bestsellers_17d44cb01bd144359b81b1c10b84dd98', 'https://www.amazon.in/GRAND-THEFT-AUTO-ROCKSTAR-DOWNLOAD/dp/B07VTLJFMK/ref=zg_bs_videogames_46/260-6238715-2286833?_encoding=UTF8&psc=1&refRID=GMZY5GJ34XVK67CGGA02', 'https://www.amazon.in/gp/prime/ref=nav_prime_ajax_err/260-6238715-2286833', 'https://www.amazon.in/gp/prime/?ie=UTF8&ref_=nav_swm_IN-PR-PC-GW-Apr19-SWM-Acq-MultiBen&pf_rd_p=f8a4c999-24eb-427f-92c9-7e821b7e1cb9&pf_rd_s=nav-sitewide-msg&pf_rd_t=4201&pf_rd_i=navbar-4201&pf_rd_m=A21TJRUUN4KGV&pf_rd_r=GMZY5GJ34XVK67CGGA02', 'https://www.amazon.in/Call-Duty-Infinite-Warfare-PS4/dp/B01JG2VZFQ/ref=zg_bs_videogames_47/260-6238715-2286833?_encoding=UTF8&psc=1&refRID=GMZY5GJ34XVK67CGGA02', 'https://www.amazon.in/gp/yourstore/pym/ref=pd_pyml_rhf/260-6238715-2286833', 'https://www.amazon.in/gp/css/homepage.html?ie=UTF8&ref_=footer_ya', 'https://www.amazon.in/AmazonBasics-Gaming-Mouse-Pad-Black/dp/B06X3W3YQD/ref=zg_bs_videogames_4/260-6238715-2286833?_encoding=UTF8&psc=1&refRID=GMZY5GJ34XVK67CGGA02', 'https://www.amazon.in/Toys-Games/b/?ie=UTF8&node=1350380031&ref_=nav_cs_toys_614bf387c5974fcdb69fb40fa2f95252', 'https://www.amazon.in/gp/help/customer/display.html?ie=UTF8&nodeId=200534380&ref_=footer_privacy', 'https://www.amazon.in/Cosmic-Byte-Dark-Matter-Backlight/dp/B071NDK5P8/ref=zg_bs_videogames_35/260-6238715-2286833?_encoding=UTF8&psc=1&refRID=GMZY5GJ34XVK67CGGA02&smid=A14CZOWI0VEHLG', 'https://www.amazon.in/Home-Kitchen/b/?ie=UTF8&node=976442031&ref_=nav_cs_home_5f0a1657ec2a4557a8233992829feaf3', 'https://www.amazon.in/video-games/b/?ie=UTF8&node=976460031&ref_=topnav_storetab_v', 'https://www.amazon.in/AmazonBasics-PlayStation-Controller-Charging-PBH-90023-1/dp/B072PW59VK/ref=zg_bs_videogames_44/260-6238715-2286833?_encoding=UTF8&psc=1&refRID=GMZY5GJ34XVK67CGGA02', 'https://www.amazon.in/Baby/b/?ie=UTF8&node=1571274031&ref_=nav_cs_baby_b2a01e91bb824bf1875698a9cdcacb29', 'https://www.amazon.in/gp/goldbox?ref_=nav_cs_gb_5bf06ae8328043a2beb2754f40a54c84', 'https://www.amazon.in/Brand-New-World-Rechargeable-400/dp/B07MXJYC2D/ref=zg_bs_videogames_36/260-6238715-2286833?_encoding=UTF8&psc=1&refRID=GMZY5GJ34XVK67CGGA02', 'https://www.amazon.in/aa/ref=footer_assistant_download_copy?bitCampaignCode=i0003', 'https://www.amazon.in/Gaming-Consoles/b/?ie=UTF8&node=4092115031&ref_=sv_v_9', 'https://www.amazon.in/gp/customer-preferences/select-language/ref=topnav_lang?preferencesReturnUrl=%2Fgp%2Fbestsellers%2Fvideogames%2F', 'https://www.amazon.in/Online-Charity/b?ie=UTF8&node=4594605031&ref_=footer_smile', 'https://www.amazon.in/gp/new-releases/?ref_=nav_cs_newreleases_b9144c00866c4016b948d9b5b5215b45', 'https://www.amazon.in/gift-card-store/b/?ie=UTF8&node=3704982031&ref_=nav_cs_gc_35a9db0a7db34350a3d3cb851062984e', 'https://www.amazon.in/Rs-1500-Sony-PlayStation-Network-Delivery/dp/B07K6VR134/ref=zg_bs_videogames_8/260-6238715-2286833?_encoding=UTF8&psc=1&refRID=GMZY5GJ34XVK67CGGA02', 'https://www.amazon.in/now?ref=footer_amznow', 'https://www.amazon.in/rd/uedata?tepes=1&id=GMZY5GJ34XVK67CGGA02', 'https://www.amazon.in/gp/help/customer/display.html?ie=UTF8&nodeId=202075050&ref_=footer_iba', 'https://www.amazon.in/Marvels-Spider-Man-PS4-Game/dp/B07X23YRCS/ref=zg_bs_videogames_16/260-6238715-2286833?_encoding=UTF8&psc=1&refRID=GMZY5GJ34XVK67CGGA02', 'https://www.amazon.in/Uncharted-Thiefs-Playstation-Newer-Version/dp/B07GLGSHWN/ref=zg_bs_videogames_38/260-6238715-2286833?_encoding=UTF8&psc=1&refRID=GMZY5GJ34XVK67CGGA02', 'https://www.amazon.in/mobile-phones/b/?ie=UTF8&node=1389401031&ref_=nav_cs_mobiles_9292c6cb7b394d30b2467b8f631090a7', 'https://www.amazon.in/Last-US-Hit-PS4/dp/B07FXTHTNY/ref=zg_bs_videogames_31/260-6238715-2286833?_encoding=UTF8&psc=1&refRID=GMZY5GJ34XVK67CGGA02', 'https://www.amazon.in/ref=nav_logo', 'https://www.amazon.in/Rs-1000-Sony-PlayStation-Network-Delivery/dp/B07K6RYVHR/ref=zg_bs_videogames_2/260-6238715-2286833?_encoding=UTF8&psc=1&refRID=GMZY5GJ34XVK67CGGA02', 'https://www.amazon.in/PS4-Marvels-Spider-Man-Miles-Morales/dp/B08LFBM5JV/ref=zg_bs_videogames_26/260-6238715-2286833?_encoding=UTF8&psc=1&refRID=GMZY5GJ34XVK67CGGA02', 'https://www.amazon.in/Car-Motorbike-Store/b/?ie=UTF8&node=4772060031&ref_=nav_cs_automotive_75137ca568f6495387a781885869ac30', 'https://www.amazon.in/Nintendo/b/?ie=UTF8&node=4092120031&ref_=sv_v_6', 'https://www.amazon.in/gp/help/customer/display.html?nodeId=200507590&ref_=nav_cs_help_79404a52982a4d9d973cf256c713999e', 'https://www.amazon.in/gp/sva/dashboard?ref_=nav_cs_apay_fe0c735739554ca1a7cccf7c41941f2f', 'https://www.amazon.in/AmazonBasics-Extended-Gaming-Mouse-Black/dp/B06X19FLTC/ref=zg_bs_videogames_1/260-6238715-2286833?_encoding=UTF8&psc=1&refRID=GMZY5GJ34XVK67CGGA02&smid=AT95IG9ONZD7S', 'https://www.amazon.in/electronics/b/?ie=UTF8&node=976419031&ref_=nav_cs_electronics_c5b70a82461a484189e700166599ce9f', 'https://www.amazon.in/Need-for-Speed-Heat-PS4/dp/B07WQ4KTT6/ref=zg_bs_videogames_49/260-6238715-2286833?_encoding=UTF8&psc=1&refRID=GMZY5GJ34XVK67CGGA02', 'https://www.amazon.in/Xbox-One/b/?ie=UTF8&node=2785596031&ref_=sv_v_1', 'https://www.amazon.in/gp/help/customer/display.html?ie=UTF8&nodeId=201083470&ref_=footer_swc', 'https://www.amazon.in/PlayStation-Plus-Membership-Delivery-Digital/dp/B07K6RYVHQ/ref=zg_bs_videogames_32/260-6238715-2286833?_encoding=UTF8&psc=1&refRID=GMZY5GJ34XVK67CGGA02', 'https://www.amazon.in/PlayStation-Plus-Membership-Delivery-Digital/dp/B07K6VMWHQ/ref=zg_bs_videogames_7/260-6238715-2286833?_encoding=UTF8&psc=1&refRID=GMZY5GJ34XVK67CGGA02', 'https://www.amazon.in/Dualshock-Wireless-Controller-Playstation-Black/dp/B06WWR2GZF/ref=zg_bs_videogames_13/260-6238715-2286833?_encoding=UTF8&psc=1&refRID=GMZY5GJ34XVK67CGGA02', 'https://www.amazon.in/Video-Games-Accessories/b/?ie=UTF8&node=4092116031&ref_=sv_v_10', 'https://www.amazon.in/Sony-GVS09Z0-Days-Gone-PS4/dp/B01GVS09Z0/ref=zg_bs_videogames_48/260-6238715-2286833?_encoding=UTF8&psc=1&refRID=GMZY5GJ34XVK67CGGA02', 'https://www.amazon.in/Sony-PlayStation-Plus-Membership-account/dp/B07FMXHCL7/ref=zg_bs_videogames_40/260-6238715-2286833?_encoding=UTF8&psc=1&refRID=GMZY5GJ34XVK67CGGA02', 'https://www.amazon.in/FIFA-21-Standard-Edition-PS4/dp/B08BJ6LMMN/ref=zg_bs_videogames_27/260-6238715-2286833?_encoding=UTF8&psc=1&refRID=GMZY5GJ34XVK67CGGA02']\n"
     ]
    }
   ],
   "source": [
    "print(page_links)"
   ]
  },
  {
   "cell_type": "code",
   "execution_count": 12,
   "id": "organized-survey",
   "metadata": {},
   "outputs": [],
   "source": [
    "# simplifying lookup\n",
    "def scrape_product_page(url, title_lookup = '#productTitle', price_lookup = '#priceblock_ourprice'):\n",
    "    driver.get(url)\n",
    "    sleep(1)\n",
    "    body_element = driver.find_element_by_css_selector('body')\n",
    "    html_txt = body_element.get_attribute('innerHTML')\n",
    "    html_obj = HTML(html=html_txt)\n",
    "    product_title = html_obj.find(title_lookup, first=True).text\n",
    "    product_price = html_obj.find(price_lookup, first=True).text\n",
    "    return product_title, product_price"
   ]
  },
  {
   "cell_type": "code",
   "execution_count": 13,
   "id": "seven-digit",
   "metadata": {},
   "outputs": [
    {
     "name": "stdout",
     "output_type": "stream",
     "text": [
      "https://www.amazon.in/Rs-3000-Sony-PlayStation-Network-Delivery/dp/B07K6PVR8B/ref=zg_bs_videogames_37/260-6238715-2286833?_encoding=UTF8&psc=1&refRID=GMZY5GJ34XVK67CGGA02\n"
     ]
    }
   ],
   "source": [
    "first_product_link = page_links[0]\n",
    "print(first_product_link)"
   ]
  },
  {
   "cell_type": "code",
   "execution_count": 14,
   "id": "concrete-vertical",
   "metadata": {},
   "outputs": [
    {
     "name": "stdout",
     "output_type": "stream",
     "text": [
      "Title:  Red Dead Redemption - 2 (PS4)\n",
      "Price:  ₹ 2,230.00\n",
      "link:  https://www.amazon.in/Red-Dead-Redemption-2-PS4/dp/B07BFGGNT9/ref=zg_bs_videogames_29/260-6238715-2286833?_encoding=UTF8&psc=1&refRID=GMZY5GJ34XVK67CGGA02 \n",
      "\n",
      "Title:  GSH DualShock Wireless Controller for PlayStation 3 | Professional PS3 Wireless Gamepad for PlayStation 3/ PS3 Slim / PS3 Super Slim/PS3 Fat by - Ghost Black Limited Edition ( Only Ps3 Compitible , charging cable not included )\n",
      "Price:  ₹ 909.00\n",
      "link:  https://www.amazon.in/GSH-DualShock-Controller-PlayStation-Professional/dp/B08G8XDBXZ/ref=zg_bs_videogames_28/260-6238715-2286833?_encoding=UTF8&psc=1&refRID=GMZY5GJ34XVK67CGGA02 \n",
      "\n",
      "Title:  WWE 2K20 (PS4)\n",
      "Price:  ₹ 1,599.00\n",
      "link:  https://www.amazon.in/2K-Games-WWE-2K20-PS4/dp/B07W6G9SCB/ref=zg_bs_videogames_34/260-6238715-2286833?_encoding=UTF8&psc=1&refRID=GMZY5GJ34XVK67CGGA02 \n",
      "\n",
      "Title:  Marvel's Avengers (Free PS5 Upgrade)\n",
      "Price:  ₹ 1,947.00\n",
      "link:  https://www.amazon.in/Square-Enix-Marvels-Avengers-PS4/dp/B07YSTD51Q/ref=zg_bs_videogames_42/260-6238715-2286833?_encoding=UTF8&psc=1&refRID=GMZY5GJ34XVK67CGGA02 \n",
      "\n",
      "Title:  Tom Clancy's Ghost Recon Breakpoint (PS4)\n",
      "Price:  ₹ 784.00\n",
      "link:  https://www.amazon.in/Tom-Clancys-Ghost-Recon-Breakpoint/dp/B07S1XKYGT/ref=zg_bs_videogames_43/260-6238715-2286833?_encoding=UTF8&psc=1&refRID=GMZY5GJ34XVK67CGGA02 \n",
      "\n",
      "Title:  PS4 Ghost of Tsushima (PS4)\n",
      "Price:  ₹ 2,299.00\n",
      "link:  https://www.amazon.in/PS4-Ghost-of-Tsushima/dp/B085LZSG6F/ref=zg_bs_videogames_24/260-6238715-2286833?_encoding=UTF8&psc=1&refRID=GMZY5GJ34XVK67CGGA02 \n",
      "\n",
      "Title:  PUBG - PLAYERUNKNOWN'S BATTLEGROUNDS (PS4)- Playstation PLUS Required\n",
      "Price:  ₹ 936.00\n",
      "link:  https://www.amazon.in/PUBG-PLAYERUNKNOWNS-BATTLEGROUNDS-Playstation-Required/dp/B07KWC6B87/ref=zg_bs_videogames_41/260-6238715-2286833?_encoding=UTF8&psc=1&refRID=GMZY5GJ34XVK67CGGA02 \n",
      "\n",
      "Title:  PowerA Wired Officially Licensed Controller for Xbox One, Xbox One S, Xbox One X & Windows 10 - Black\n",
      "Price:  ₹ 2,199.00\n",
      "link:  https://www.amazon.in/PowerA-Officially-Licensed-Controller-Windows/dp/B07NPY1YT5/ref=zg_bs_videogames_12/260-6238715-2286833?_encoding=UTF8&psc=1&refRID=GMZY5GJ34XVK67CGGA02 \n",
      "\n",
      "Title:  Xbox 360 Controller Replacement Battery Pack Cover Shell - Black\n",
      "Price:  ₹ 199.00\n",
      "link:  https://www.amazon.in/Controller-Replacement-Battery-Cover-Shell/dp/B00TBB6VMU/ref=zg_bs_videogames_45/260-6238715-2286833?_encoding=UTF8&psc=1&refRID=GMZY5GJ34XVK67CGGA02 \n",
      "\n",
      "Title:  Uncharted Collection Hits (PS4)\n",
      "Price:  ₹ 872.00\n",
      "link:  https://www.amazon.in/Sony-Uncharted-Collection-Hits-PS4/dp/B07M5V17R9/ref=zg_bs_videogames_39/260-6238715-2286833?_encoding=UTF8&psc=1&refRID=GMZY5GJ34XVK67CGGA02 \n",
      "\n",
      "Title:  PS4 Minecraft Bedrock Ed. (PS4)\n",
      "Price:  ₹ 1,499.00\n",
      "link:  https://www.amazon.in/PS4-Minecraft-Bedrock-Ed/dp/B082KW6F8Z/ref=zg_bs_videogames_33/260-6238715-2286833?_encoding=UTF8&psc=1&refRID=GMZY5GJ34XVK67CGGA02 \n",
      "\n",
      "Title:  Cosmic Byte GS410 Headphones with Mic and for PS4, Xbox One, Laptop, PC, iPhone and Android Phones (Grey)\n",
      "Price:  ₹ 961.00\n",
      "link:  https://www.amazon.in/Cosmic-Byte-GS410-Headphones-Grey/dp/B07K7XRJTZ/ref=zg_bs_videogames_10/260-6238715-2286833?_encoding=UTF8&psc=1&refRID=GMZY5GJ34XVK67CGGA02 \n",
      "\n"
     ]
    }
   ],
   "source": [
    "for link in page_links:\n",
    "    title, price = (None, None)\n",
    "    try:\n",
    "        title, price = scrape_product_page(url=link)\n",
    "    except:\n",
    "        pass\n",
    "    \n",
    "    if title is not None and price is not None:\n",
    "        print('Title: ', title)\n",
    "        print('Price: ', price)\n",
    "        print('link: ', link, '\\n')"
   ]
  },
  {
   "cell_type": "code",
   "execution_count": 15,
   "id": "invalid-detector",
   "metadata": {},
   "outputs": [],
   "source": [
    "# https://www.amazon.in/Cosmic-Byte-GS410-Headphones-Grey/dp/B07K7XRJTZ/\n",
    "# https://www.amazon.in/Sony-Uncharted-Collection-Hits-PS4/dp/B07M5V17R9/\n",
    "\n",
    "# <base_url>/<slug>/dp/<product_id>/"
   ]
  }
 ],
 "metadata": {
  "kernelspec": {
   "display_name": "Python 3",
   "language": "python",
   "name": "python3"
  },
  "language_info": {
   "codemirror_mode": {
    "name": "ipython",
    "version": 3
   },
   "file_extension": ".py",
   "mimetype": "text/x-python",
   "name": "python",
   "nbconvert_exporter": "python",
   "pygments_lexer": "ipython3",
   "version": "3.8.5"
  }
 },
 "nbformat": 4,
 "nbformat_minor": 5
}
