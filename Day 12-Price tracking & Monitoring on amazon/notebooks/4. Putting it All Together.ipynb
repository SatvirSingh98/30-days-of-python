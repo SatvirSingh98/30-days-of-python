{
 "cells": [
  {
   "cell_type": "code",
   "execution_count": 1,
   "id": "recognized-finish",
   "metadata": {},
   "outputs": [],
   "source": [
    "import pandas as pd\n",
    "import re\n",
    "from datetime import datetime\n",
    "from pathlib import Path  # using instead of os\n",
    "from pprint import pprint\n",
    "from requests_html import HTML\n",
    "from selenium import webdriver\n",
    "from selenium.webdriver.chrome.options import Options\n",
    "from time import sleep"
   ]
  },
  {
   "cell_type": "code",
   "execution_count": 2,
   "id": "cardiac-jonathan",
   "metadata": {},
   "outputs": [],
   "source": [
    "BASE_DIR = Path.cwd()\n",
    "parent_dir = BASE_DIR.parent\n",
    "CHROMEDRIVER_DIR = parent_dir / '.chromedriver'\n",
    "CHROMEDRIVER_PATH = GECKODRIVER_DIR / 'chromedriver'\n",
    "\n",
    "DATA_DIR = BASE_DIR / \"data\"\n",
    "\n",
    "if not DATA_DIR.exists():\n",
    "    DATA_DIR.mkdir(exist_ok=True)\n",
    "\n",
    "product_category_links_output = DATA_DIR / \"category-products.csv\"\n",
    "product_output = DATA_DIR / \"products.csv\""
   ]
  },
  {
   "cell_type": "code",
   "execution_count": 3,
   "id": "pointed-financing",
   "metadata": {},
   "outputs": [],
   "source": [
    "options = Options()\n",
    "options.add_argument('--headless')\n",
    "driver = webdriver.Firefox(executable_path=CHROMEDRIVER_PATH, options=options)"
   ]
  },
  {
   "cell_type": "code",
   "execution_count": 4,
   "id": "needed-jackson",
   "metadata": {},
   "outputs": [],
   "source": [
    "categories = [\n",
    "    {'name': 'gift-cards', 'url': 'https://www.amazon.in/gp/bestsellers/gift-cards/'},\n",
    "    {'name': 'videogames', 'url': 'https://www.amazon.in/gp/bestsellers/videogames/'},\n",
    "    {'name': 'electronics', 'url': 'https://www.amazon.in/gp/bestsellers/electronics/'},\n",
    "]"
   ]
  },
  {
   "cell_type": "code",
   "execution_count": 5,
   "id": "efficient-alert",
   "metadata": {},
   "outputs": [],
   "source": [
    "regex_str = r\"https://www.amazon.in/(?P<slug>[\\w-]+)/dp/(?P<product_id>[\\w-]+)/\"\n",
    "\n",
    "def extract_product_id_from_url(url):\n",
    "    product_id = None\n",
    "    regex = re.compile(regex_str)\n",
    "    regex_match = regex.match(url)\n",
    "    if regex_match is not None:\n",
    "        try:\n",
    "            product_id = regex_match['product_id']\n",
    "        except:\n",
    "            pass\n",
    "    return product_id"
   ]
  },
  {
   "cell_type": "code",
   "execution_count": 6,
   "id": "french-asian",
   "metadata": {},
   "outputs": [],
   "source": [
    "def clean_page_links(all_links=[], category=None):\n",
    "    final_page_links = []\n",
    "    for link in all_links:\n",
    "        product_id =  extract_product_id_from_url(link)\n",
    "        if product_id is not None:\n",
    "            final_page_links.append({'product_id': product_id, 'category':category, 'url': link})\n",
    "    return final_page_links"
   ]
  },
  {
   "cell_type": "code",
   "execution_count": 7,
   "id": "placed-reasoning",
   "metadata": {},
   "outputs": [],
   "source": [
    "def scrape_category_product_links(categories=[]):\n",
    "    all_product_links = []\n",
    "    for category in categories:\n",
    "        sleep(1)\n",
    "        url = category.get('url')\n",
    "        driver.get(url)\n",
    "        body_element = driver.find_element_by_css_selector('body')\n",
    "        html_txt = body_element.get_attribute('innerHTML')\n",
    "        html_obj = HTML(html=html_txt)\n",
    "        page_links = [f\"https://www.amazon.in{link}\" for link in html_obj.links if link.startswith('/')]\n",
    "        cleaned_links = clean_page_links(all_links=page_links, category=category['name'])\n",
    "        all_product_links += (cleaned_links)\n",
    "    return all_product_links"
   ]
  },
  {
   "cell_type": "code",
   "execution_count": 8,
   "id": "intended-conversion",
   "metadata": {},
   "outputs": [],
   "source": [
    "def extract_categories_and_save(categories=[]):\n",
    "    all_product_links = scrape_category_product_links(categories)\n",
    "    category_df = pd.DataFrame(all_product_links)\n",
    "    category_df.to_csv(product_category_links_output, index=False)"
   ]
  },
  {
   "cell_type": "code",
   "execution_count": 9,
   "id": "caring-county",
   "metadata": {},
   "outputs": [],
   "source": [
    "extract_categories_and_save(categories=categories)"
   ]
  },
  {
   "cell_type": "code",
   "execution_count": 10,
   "id": "destroyed-catch",
   "metadata": {},
   "outputs": [],
   "source": [
    "def scrape_product_page(url, title_lookup = '#productTitle', price_lookup = '#priceblock_ourprice'):\n",
    "    driver.get(url)\n",
    "    sleep(1)\n",
    "    body_element = driver.find_element_by_css_selector('body')\n",
    "    html_txt = body_element.get_attribute('innerHTML')\n",
    "    html_obj = HTML(html=html_txt)\n",
    "    product_title = html_obj.find(title_lookup, first=True).text\n",
    "    product_price = html_obj.find(price_lookup, first=True).text\n",
    "    return product_title, product_price"
   ]
  },
  {
   "cell_type": "code",
   "execution_count": 11,
   "id": "egyptian-richardson",
   "metadata": {},
   "outputs": [],
   "source": [
    "def row_scrape_event(row, *args, **kwargs):\n",
    "    link = row['url']\n",
    "    scraped = 0  # False\n",
    "    try:\n",
    "        scraped = row['scraped']\n",
    "    except:\n",
    "        pass\n",
    "    \n",
    "    if scraped == 1 or scraped == '1':\n",
    "        return row\n",
    "    \n",
    "    product_id = row['product_id']\n",
    "    title, price = (None, None)\n",
    "    try:\n",
    "        title, price = scrape_product_page(url=link)\n",
    "    except:\n",
    "        pass\n",
    "    row['title'] = title\n",
    "    row['price'] = price\n",
    "    row['scraped'] = 1  # True\n",
    "    row['timestamp'] = datetime.now().timestamp()\n",
    "    return row"
   ]
  },
  {
   "cell_type": "code",
   "execution_count": 12,
   "id": "military-ribbon",
   "metadata": {},
   "outputs": [
    {
     "data": {
      "text/html": [
       "<div>\n",
       "<style scoped>\n",
       "    .dataframe tbody tr th:only-of-type {\n",
       "        vertical-align: middle;\n",
       "    }\n",
       "\n",
       "    .dataframe tbody tr th {\n",
       "        vertical-align: top;\n",
       "    }\n",
       "\n",
       "    .dataframe thead th {\n",
       "        text-align: right;\n",
       "    }\n",
       "</style>\n",
       "<table border=\"1\" class=\"dataframe\">\n",
       "  <thead>\n",
       "    <tr style=\"text-align: right;\">\n",
       "      <th></th>\n",
       "      <th>product_id</th>\n",
       "      <th>category</th>\n",
       "      <th>url</th>\n",
       "    </tr>\n",
       "  </thead>\n",
       "  <tbody>\n",
       "    <tr>\n",
       "      <th>0</th>\n",
       "      <td>B07C8Y15V5</td>\n",
       "      <td>gift-cards</td>\n",
       "      <td>https://www.amazon.in/BigBasket-2_model-eGift-...</td>\n",
       "    </tr>\n",
       "    <tr>\n",
       "      <th>1</th>\n",
       "      <td>B07BTPJ1Z3</td>\n",
       "      <td>gift-cards</td>\n",
       "      <td>https://www.amazon.in/Congratulations-Great-li...</td>\n",
       "    </tr>\n",
       "    <tr>\n",
       "      <th>2</th>\n",
       "      <td>B0797M1M18</td>\n",
       "      <td>gift-cards</td>\n",
       "      <td>https://www.amazon.in/Together-forever-mail-Am...</td>\n",
       "    </tr>\n",
       "    <tr>\n",
       "      <th>3</th>\n",
       "      <td>B018TV9G2E</td>\n",
       "      <td>gift-cards</td>\n",
       "      <td>https://www.amazon.in/Thank-You-Post-its-mail-...</td>\n",
       "    </tr>\n",
       "    <tr>\n",
       "      <th>4</th>\n",
       "      <td>B00K5ZQ6D0</td>\n",
       "      <td>gift-cards</td>\n",
       "      <td>https://www.amazon.in/Congratulations-Flowers-...</td>\n",
       "    </tr>\n",
       "  </tbody>\n",
       "</table>\n",
       "</div>"
      ],
      "text/plain": [
       "   product_id    category                                                url\n",
       "0  B07C8Y15V5  gift-cards  https://www.amazon.in/BigBasket-2_model-eGift-...\n",
       "1  B07BTPJ1Z3  gift-cards  https://www.amazon.in/Congratulations-Great-li...\n",
       "2  B0797M1M18  gift-cards  https://www.amazon.in/Together-forever-mail-Am...\n",
       "3  B018TV9G2E  gift-cards  https://www.amazon.in/Thank-You-Post-its-mail-...\n",
       "4  B00K5ZQ6D0  gift-cards  https://www.amazon.in/Congratulations-Flowers-..."
      ]
     },
     "execution_count": 12,
     "metadata": {},
     "output_type": "execute_result"
    }
   ],
   "source": [
    "df = pd.read_csv(product_category_links_output)\n",
    "df.head()"
   ]
  },
  {
   "cell_type": "code",
   "execution_count": 13,
   "id": "necessary-orbit",
   "metadata": {},
   "outputs": [
    {
     "data": {
      "text/plain": [
       "(149, 3)"
      ]
     },
     "execution_count": 13,
     "metadata": {},
     "output_type": "execute_result"
    }
   ],
   "source": [
    "df.shape"
   ]
  },
  {
   "cell_type": "code",
   "execution_count": 14,
   "id": "surgical-appeal",
   "metadata": {},
   "outputs": [],
   "source": [
    "df_sub = df.tail(20)  # for fast output\n",
    "# df_sub = df.copy()"
   ]
  },
  {
   "cell_type": "code",
   "execution_count": null,
   "id": "raised-direction",
   "metadata": {},
   "outputs": [],
   "source": [
    "df_sub = df_sub.apply(row_scrape_event, axis=1)"
   ]
  },
  {
   "cell_type": "code",
   "execution_count": null,
   "id": "optical-virginia",
   "metadata": {},
   "outputs": [],
   "source": [
    "df_sub.to_csv(product_output, index=False)"
   ]
  },
  {
   "cell_type": "code",
   "execution_count": null,
   "id": "expensive-andrew",
   "metadata": {},
   "outputs": [],
   "source": [
    "products_df = pd.read_csv(product_output)\n",
    "products_df.head()"
   ]
  },
  {
   "cell_type": "code",
   "execution_count": null,
   "id": "determined-programming",
   "metadata": {},
   "outputs": [],
   "source": [
    "# final_df = pd.concat([products_df, df_sub])\n",
    "# final_df.to_csv(product_output, index=False)"
   ]
  },
  {
   "cell_type": "code",
   "execution_count": null,
   "id": "younger-process",
   "metadata": {},
   "outputs": [],
   "source": [
    "# final_df.head()"
   ]
  }
 ],
 "metadata": {
  "kernelspec": {
   "display_name": "Python 3",
   "language": "python",
   "name": "python3"
  },
  "language_info": {
   "codemirror_mode": {
    "name": "ipython",
    "version": 3
   },
   "file_extension": ".py",
   "mimetype": "text/x-python",
   "name": "python",
   "nbconvert_exporter": "python",
   "pygments_lexer": "ipython3",
   "version": "3.8.5"
  }
 },
 "nbformat": 4,
 "nbformat_minor": 5
}