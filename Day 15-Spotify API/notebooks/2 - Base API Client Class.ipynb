{
 "cells": [
  {
   "cell_type": "code",
   "execution_count": 1,
   "id": "republican-powder",
   "metadata": {},
   "outputs": [],
   "source": [
    "import base64\n",
    "import requests\n",
    "from datetime import datetime, timedelta"
   ]
  },
  {
   "cell_type": "code",
   "execution_count": 2,
   "id": "imported-belfast",
   "metadata": {},
   "outputs": [],
   "source": [
    "client_id = 'ca305d1bc7e64485b99c494669317577'\n",
    "client_secret = 'e00556e638e84fd99da29d554ae66778'"
   ]
  },
  {
   "cell_type": "code",
   "execution_count": 3,
   "id": "agricultural-leader",
   "metadata": {},
   "outputs": [],
   "source": [
    "class SpotifyAPI:\n",
    "    access_token = None\n",
    "    access_token_expires = datetime.now()\n",
    "    access_token_expired = True\n",
    "    client_id = None\n",
    "    client_secret = None\n",
    "    token_url = 'https://accounts.spotify.com/api/token'\n",
    "    \n",
    "    def __init__(self, client_id, client_secret):\n",
    "        self.client_id = client_id\n",
    "        self.client_secret = client_secret\n",
    "    \n",
    "    def get_client_credentials(self):\n",
    "        '''\n",
    "        Returns a base64 encoded string\n",
    "        '''\n",
    "        client_id = self.client_id\n",
    "        client_secret = self.client_secret\n",
    "        \n",
    "        if client_id == None or client_secret == None:\n",
    "            raise Exception('You must set client_id and client_secret.')\n",
    "\n",
    "        client_creds = f'{client_id}:{client_secret}'\n",
    "        client_creds_b64 = base64.b64encode(client_creds.encode())\n",
    "        return client_creds_b64.decode()\n",
    "    \n",
    "    def get_token_headers(self):\n",
    "        return {'Authorization': f'Basic {self.get_client_credentials()}'}\n",
    "    \n",
    "    def get_token_data(self):\n",
    "        return {'grant_type': 'client_credentials'}\n",
    "    \n",
    "    def auth(self):\n",
    "        r = requests.post(self.token_url, data=self.get_token_data(), headers=self.get_token_headers())\n",
    "        if r.status_code not in range(200, 300):\n",
    "            return False\n",
    "        data = r.json()\n",
    "        now = datetime.now()\n",
    "        access_token = data['access_token']\n",
    "        expires_in = data['expires_in']  # seconds\n",
    "        expires = now + timedelta(seconds=expires_in)\n",
    "        self.access_token = access_token\n",
    "        self.access_token_expires = expires\n",
    "        self.access_token_expired = expires < now\n",
    "        return True"
   ]
  },
  {
   "cell_type": "code",
   "execution_count": 4,
   "id": "charming-institute",
   "metadata": {},
   "outputs": [],
   "source": [
    "spotify = SpotifyAPI(client_id, client_secret)"
   ]
  },
  {
   "cell_type": "code",
   "execution_count": 5,
   "id": "whole-variation",
   "metadata": {},
   "outputs": [
    {
     "data": {
      "text/plain": [
       "True"
      ]
     },
     "execution_count": 5,
     "metadata": {},
     "output_type": "execute_result"
    }
   ],
   "source": [
    "spotify.auth()"
   ]
  },
  {
   "cell_type": "code",
   "execution_count": 6,
   "id": "living-border",
   "metadata": {},
   "outputs": [
    {
     "data": {
      "text/plain": [
       "'BQD7ZsCsr5Ygdqb4-Je6pXQc0im0Zd_jQuCVWRNHngSuKuuwwUTkPiE_1mYwbLHIGPJmdfLJXpeglqUu-8s'"
      ]
     },
     "execution_count": 6,
     "metadata": {},
     "output_type": "execute_result"
    }
   ],
   "source": [
    "spotify.access_token"
   ]
  },
  {
   "cell_type": "code",
   "execution_count": null,
   "id": "confident-manner",
   "metadata": {},
   "outputs": [],
   "source": []
  }
 ],
 "metadata": {
  "kernelspec": {
   "display_name": "Python 3",
   "language": "python",
   "name": "python3"
  },
  "language_info": {
   "codemirror_mode": {
    "name": "ipython",
    "version": 3
   },
   "file_extension": ".py",
   "mimetype": "text/x-python",
   "name": "python",
   "nbconvert_exporter": "python",
   "pygments_lexer": "ipython3",
   "version": "3.8.5"
  }
 },
 "nbformat": 4,
 "nbformat_minor": 5
}
