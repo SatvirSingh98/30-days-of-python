{
 "cells": [
  {
   "cell_type": "code",
   "execution_count": 1,
   "id": "developmental-privacy",
   "metadata": {},
   "outputs": [],
   "source": [
    "import tweepy\n",
    "import webbrowser\n",
    "from time import sleep\n",
    "from decouple import config\n",
    "import pandas as pd"
   ]
  },
  {
   "cell_type": "code",
   "execution_count": 2,
   "id": "executed-directive",
   "metadata": {},
   "outputs": [],
   "source": [
    "consumer_key = config('API_KEY')\n",
    "consumer_secret = config('API_SECRET_KEY')"
   ]
  },
  {
   "cell_type": "code",
   "execution_count": 3,
   "id": "broken-notion",
   "metadata": {},
   "outputs": [],
   "source": [
    "callback_uri = 'oob'"
   ]
  },
  {
   "cell_type": "code",
   "execution_count": 4,
   "id": "surprising-header",
   "metadata": {},
   "outputs": [],
   "source": [
    "auth = tweepy.OAuthHandler(consumer_key, consumer_secret, callback_uri)"
   ]
  },
  {
   "cell_type": "code",
   "execution_count": 5,
   "id": "adverse-friend",
   "metadata": {},
   "outputs": [],
   "source": [
    "try:\n",
    "    redirect_url = auth.get_authorization_url()\n",
    "except tweepy.TweepError:\n",
    "    print('Error! Failed to get request token.')"
   ]
  },
  {
   "cell_type": "code",
   "execution_count": 6,
   "id": "environmental-drove",
   "metadata": {},
   "outputs": [
    {
     "data": {
      "text/plain": [
       "True"
      ]
     },
     "execution_count": 6,
     "metadata": {},
     "output_type": "execute_result"
    }
   ],
   "source": [
    "webbrowser.open(redirect_url)"
   ]
  },
  {
   "cell_type": "code",
   "execution_count": 7,
   "id": "linear-devil",
   "metadata": {},
   "outputs": [
    {
     "name": "stdout",
     "output_type": "stream",
     "text": [
      "Enter the pin value: 5211207\n"
     ]
    }
   ],
   "source": [
    "user_pin_input = int(input(\"Enter the pin value: \"))"
   ]
  },
  {
   "cell_type": "code",
   "execution_count": 8,
   "id": "overhead-solomon",
   "metadata": {},
   "outputs": [],
   "source": [
    "# it will get access keys for that particular user\n",
    "try:\n",
    "    auth.get_access_token(str(user_pin_input))\n",
    "except tweepy.TweepError:\n",
    "    print('Error! Failed to get access token.')"
   ]
  },
  {
   "cell_type": "code",
   "execution_count": 9,
   "id": "universal-vietnam",
   "metadata": {},
   "outputs": [],
   "source": [
    "api = tweepy.API(auth)"
   ]
  },
  {
   "cell_type": "code",
   "execution_count": 10,
   "id": "wooden-lottery",
   "metadata": {},
   "outputs": [
    {
     "data": {
      "text/plain": [
       "'SatvirS54956491'"
      ]
     },
     "execution_count": 10,
     "metadata": {},
     "output_type": "execute_result"
    }
   ],
   "source": [
    "me = api.me()\n",
    "me.screen_name"
   ]
  },
  {
   "cell_type": "code",
   "execution_count": 19,
   "id": "periodic-buyer",
   "metadata": {},
   "outputs": [
    {
     "name": "stdout",
     "output_type": "stream",
     "text": [
      "https://twitter.com/code/status/1370500855351418884\n"
     ]
    }
   ],
   "source": [
    "user = api.get_user('code')\n",
    "user_timeline = user.timeline()\n",
    "user_timeline_status_obj = user_timeline[0]\n",
    "status_obj_id = user_timeline_status_obj.id\n",
    "status_obj_screen_name = user_timeline_status_obj.user.screen_name\n",
    "status_obj_url = f\"https://twitter.com/{status_obj_screen_name}/status/{status_obj_id}\"\n",
    "print(status_obj_url)"
   ]
  },
  {
   "cell_type": "code",
   "execution_count": 23,
   "id": "patient-macedonia",
   "metadata": {},
   "outputs": [
    {
     "name": "stdout",
     "output_type": "stream",
     "text": [
      "RT @ItalyPaleAle: Yesterday I talked about VS Code on Apple Silicon and how you can still code in an x86/Intel environment if you need it u…\n"
     ]
    }
   ],
   "source": [
    "status = api.get_status(status_obj_id)\n",
    "print(status.text)"
   ]
  },
  {
   "cell_type": "code",
   "execution_count": 26,
   "id": "civic-niagara",
   "metadata": {},
   "outputs": [
    {
     "data": {
      "text/plain": [
       "Status(_api=<tweepy.api.API object at 0x7f380baf0d90>, _json={'created_at': 'Fri Mar 12 22:24:01 +0000 2021', 'id': 1370500855351418884, 'id_str': '1370500855351418884', 'text': 'RT @ItalyPaleAle: Yesterday I talked about VS Code on Apple Silicon and how you can still code in an x86/Intel environment if you need it u…', 'truncated': False, 'entities': {'hashtags': [], 'symbols': [], 'user_mentions': [{'screen_name': 'ItalyPaleAle', 'name': 'Ale(ssandro) Segala', 'id': 210514288, 'id_str': '210514288', 'indices': [3, 16]}], 'urls': []}, 'source': '<a href=\"https://buffer.com\" rel=\"nofollow\">Buffer</a>', 'in_reply_to_status_id': None, 'in_reply_to_status_id_str': None, 'in_reply_to_user_id': None, 'in_reply_to_user_id_str': None, 'in_reply_to_screen_name': None, 'user': {'id': 3167734591, 'id_str': '3167734591', 'name': 'Visual Studio Code', 'screen_name': 'code', 'location': 'Redmond, WA, USA', 'description': 'Microsoft Visual Studio Code lets you build and debug modern web and cloud applications. Visual Studio Code is free and available on Linux, macOS, and Windows.', 'url': 'https://t.co/ATpGbOEGMd', 'entities': {'url': {'urls': [{'url': 'https://t.co/ATpGbOEGMd', 'expanded_url': 'https://code.visualstudio.com', 'display_url': 'code.visualstudio.com', 'indices': [0, 23]}]}, 'description': {'urls': []}}, 'protected': False, 'followers_count': 350126, 'friends_count': 126, 'listed_count': 4482, 'created_at': 'Wed Apr 22 16:53:09 +0000 2015', 'favourites_count': 3771, 'utc_offset': None, 'time_zone': None, 'geo_enabled': False, 'verified': True, 'statuses_count': 5422, 'lang': None, 'contributors_enabled': False, 'is_translator': False, 'is_translation_enabled': False, 'profile_background_color': '3B94D9', 'profile_background_image_url': 'http://abs.twimg.com/images/themes/theme10/bg.gif', 'profile_background_image_url_https': 'https://abs.twimg.com/images/themes/theme10/bg.gif', 'profile_background_tile': False, 'profile_image_url': 'http://pbs.twimg.com/profile_images/1278357302601347072/BGZIBPH9_normal.jpg', 'profile_image_url_https': 'https://pbs.twimg.com/profile_images/1278357302601347072/BGZIBPH9_normal.jpg', 'profile_banner_url': 'https://pbs.twimg.com/profile_banners/3167734591/1594141269', 'profile_link_color': '3B94D9', 'profile_sidebar_border_color': '65B0DA', 'profile_sidebar_fill_color': '7AC3EE', 'profile_text_color': '3D1957', 'profile_use_background_image': True, 'has_extended_profile': False, 'default_profile': False, 'default_profile_image': False, 'following': False, 'follow_request_sent': False, 'notifications': False, 'translator_type': 'none'}, 'geo': None, 'coordinates': None, 'place': None, 'contributors': None, 'retweeted_status': {'created_at': 'Fri Mar 12 16:56:16 +0000 2021', 'id': 1370418376468668417, 'id_str': '1370418376468668417', 'text': 'Yesterday I talked about VS Code on Apple Silicon and how you can still code in an x86/Intel environment if you nee… https://t.co/KaG7afsQvm', 'truncated': True, 'entities': {'hashtags': [], 'symbols': [], 'user_mentions': [], 'urls': [{'url': 'https://t.co/KaG7afsQvm', 'expanded_url': 'https://twitter.com/i/web/status/1370418376468668417', 'display_url': 'twitter.com/i/web/status/1…', 'indices': [117, 140]}]}, 'source': '<a href=\"https://mobile.twitter.com\" rel=\"nofollow\">Twitter Web App</a>', 'in_reply_to_status_id': None, 'in_reply_to_status_id_str': None, 'in_reply_to_user_id': None, 'in_reply_to_user_id_str': None, 'in_reply_to_screen_name': None, 'user': {'id': 210514288, 'id_str': '210514288', 'name': 'Ale(ssandro) Segala', 'screen_name': 'ItalyPaleAle', 'location': 'Seattle, WA', 'description': 'Cooker of great risotto. Sometimes tech nerd. Driving dev tools, @code & open source @Microsoft @Azure ☁️ Opinions are mine 🇮🇹🇨🇦🇺🇸', 'url': None, 'entities': {'description': {'urls': []}}, 'protected': False, 'followers_count': 973, 'friends_count': 599, 'listed_count': 28, 'created_at': 'Sun Oct 31 16:24:32 +0000 2010', 'favourites_count': 2660, 'utc_offset': None, 'time_zone': None, 'geo_enabled': True, 'verified': False, 'statuses_count': 2038, 'lang': None, 'contributors_enabled': False, 'is_translator': False, 'is_translation_enabled': False, 'profile_background_color': '000000', 'profile_background_image_url': 'http://abs.twimg.com/images/themes/theme1/bg.png', 'profile_background_image_url_https': 'https://abs.twimg.com/images/themes/theme1/bg.png', 'profile_background_tile': False, 'profile_image_url': 'http://pbs.twimg.com/profile_images/1197656824435970048/ZNGBFDAU_normal.jpg', 'profile_image_url_https': 'https://pbs.twimg.com/profile_images/1197656824435970048/ZNGBFDAU_normal.jpg', 'profile_link_color': '1B95E0', 'profile_sidebar_border_color': '000000', 'profile_sidebar_fill_color': '000000', 'profile_text_color': '000000', 'profile_use_background_image': False, 'has_extended_profile': True, 'default_profile': False, 'default_profile_image': False, 'following': False, 'follow_request_sent': False, 'notifications': False, 'translator_type': 'regular'}, 'geo': None, 'coordinates': None, 'place': None, 'contributors': None, 'is_quote_status': True, 'quoted_status_id': 1370417310138310657, 'quoted_status_id_str': '1370417310138310657', 'quoted_status': {'created_at': 'Fri Mar 12 16:52:02 +0000 2021', 'id': 1370417310138310657, 'id_str': '1370417310138310657', 'text': 'Our Release Party for VS Code 1.54 was a lot of fun! 😁 Thanks @eamodio, @ItalyPaleAle and @miguelsolorio_ for showi… https://t.co/7RezIPVP9k', 'truncated': True, 'entities': {'hashtags': [], 'symbols': [], 'user_mentions': [{'screen_name': 'eamodio', 'name': 'Eric Amodio', 'id': 24541812, 'id_str': '24541812', 'indices': [62, 70]}, {'screen_name': 'ItalyPaleAle', 'name': 'Ale(ssandro) Segala', 'id': 210514288, 'id_str': '210514288', 'indices': [72, 85]}, {'screen_name': 'miguelsolorio_', 'name': 'Miguel Solorio', 'id': 836722389446721536, 'id_str': '836722389446721536', 'indices': [90, 105]}], 'urls': [{'url': 'https://t.co/7RezIPVP9k', 'expanded_url': 'https://twitter.com/i/web/status/1370417310138310657', 'display_url': 'twitter.com/i/web/status/1…', 'indices': [117, 140]}]}, 'source': '<a href=\"https://buffer.com\" rel=\"nofollow\">Buffer</a>', 'in_reply_to_status_id': None, 'in_reply_to_status_id_str': None, 'in_reply_to_user_id': None, 'in_reply_to_user_id_str': None, 'in_reply_to_screen_name': None, 'user': {'id': 3167734591, 'id_str': '3167734591', 'name': 'Visual Studio Code', 'screen_name': 'code', 'location': 'Redmond, WA, USA', 'description': 'Microsoft Visual Studio Code lets you build and debug modern web and cloud applications. Visual Studio Code is free and available on Linux, macOS, and Windows.', 'url': 'https://t.co/ATpGbOEGMd', 'entities': {'url': {'urls': [{'url': 'https://t.co/ATpGbOEGMd', 'expanded_url': 'https://code.visualstudio.com', 'display_url': 'code.visualstudio.com', 'indices': [0, 23]}]}, 'description': {'urls': []}}, 'protected': False, 'followers_count': 350126, 'friends_count': 126, 'listed_count': 4482, 'created_at': 'Wed Apr 22 16:53:09 +0000 2015', 'favourites_count': 3771, 'utc_offset': None, 'time_zone': None, 'geo_enabled': False, 'verified': True, 'statuses_count': 5422, 'lang': None, 'contributors_enabled': False, 'is_translator': False, 'is_translation_enabled': False, 'profile_background_color': '3B94D9', 'profile_background_image_url': 'http://abs.twimg.com/images/themes/theme10/bg.gif', 'profile_background_image_url_https': 'https://abs.twimg.com/images/themes/theme10/bg.gif', 'profile_background_tile': False, 'profile_image_url': 'http://pbs.twimg.com/profile_images/1278357302601347072/BGZIBPH9_normal.jpg', 'profile_image_url_https': 'https://pbs.twimg.com/profile_images/1278357302601347072/BGZIBPH9_normal.jpg', 'profile_banner_url': 'https://pbs.twimg.com/profile_banners/3167734591/1594141269', 'profile_link_color': '3B94D9', 'profile_sidebar_border_color': '65B0DA', 'profile_sidebar_fill_color': '7AC3EE', 'profile_text_color': '3D1957', 'profile_use_background_image': True, 'has_extended_profile': False, 'default_profile': False, 'default_profile_image': False, 'following': False, 'follow_request_sent': False, 'notifications': False, 'translator_type': 'none'}, 'geo': None, 'coordinates': None, 'place': None, 'contributors': None, 'is_quote_status': False, 'retweet_count': 19, 'favorite_count': 121, 'favorited': False, 'retweeted': False, 'possibly_sensitive': False, 'lang': 'en'}, 'retweet_count': 4, 'favorite_count': 31, 'favorited': True, 'retweeted': False, 'possibly_sensitive': False, 'lang': 'en'}, 'is_quote_status': True, 'quoted_status_id': 1370417310138310657, 'quoted_status_id_str': '1370417310138310657', 'retweet_count': 4, 'favorite_count': 0, 'favorited': True, 'retweeted': False, 'lang': 'en'}, created_at=datetime.datetime(2021, 3, 12, 22, 24, 1), id=1370500855351418884, id_str='1370500855351418884', text='RT @ItalyPaleAle: Yesterday I talked about VS Code on Apple Silicon and how you can still code in an x86/Intel environment if you need it u…', truncated=False, entities={'hashtags': [], 'symbols': [], 'user_mentions': [{'screen_name': 'ItalyPaleAle', 'name': 'Ale(ssandro) Segala', 'id': 210514288, 'id_str': '210514288', 'indices': [3, 16]}], 'urls': []}, source='Buffer', source_url='https://buffer.com', in_reply_to_status_id=None, in_reply_to_status_id_str=None, in_reply_to_user_id=None, in_reply_to_user_id_str=None, in_reply_to_screen_name=None, author=User(_api=<tweepy.api.API object at 0x7f380baf0d90>, _json={'id': 3167734591, 'id_str': '3167734591', 'name': 'Visual Studio Code', 'screen_name': 'code', 'location': 'Redmond, WA, USA', 'description': 'Microsoft Visual Studio Code lets you build and debug modern web and cloud applications. Visual Studio Code is free and available on Linux, macOS, and Windows.', 'url': 'https://t.co/ATpGbOEGMd', 'entities': {'url': {'urls': [{'url': 'https://t.co/ATpGbOEGMd', 'expanded_url': 'https://code.visualstudio.com', 'display_url': 'code.visualstudio.com', 'indices': [0, 23]}]}, 'description': {'urls': []}}, 'protected': False, 'followers_count': 350126, 'friends_count': 126, 'listed_count': 4482, 'created_at': 'Wed Apr 22 16:53:09 +0000 2015', 'favourites_count': 3771, 'utc_offset': None, 'time_zone': None, 'geo_enabled': False, 'verified': True, 'statuses_count': 5422, 'lang': None, 'contributors_enabled': False, 'is_translator': False, 'is_translation_enabled': False, 'profile_background_color': '3B94D9', 'profile_background_image_url': 'http://abs.twimg.com/images/themes/theme10/bg.gif', 'profile_background_image_url_https': 'https://abs.twimg.com/images/themes/theme10/bg.gif', 'profile_background_tile': False, 'profile_image_url': 'http://pbs.twimg.com/profile_images/1278357302601347072/BGZIBPH9_normal.jpg', 'profile_image_url_https': 'https://pbs.twimg.com/profile_images/1278357302601347072/BGZIBPH9_normal.jpg', 'profile_banner_url': 'https://pbs.twimg.com/profile_banners/3167734591/1594141269', 'profile_link_color': '3B94D9', 'profile_sidebar_border_color': '65B0DA', 'profile_sidebar_fill_color': '7AC3EE', 'profile_text_color': '3D1957', 'profile_use_background_image': True, 'has_extended_profile': False, 'default_profile': False, 'default_profile_image': False, 'following': False, 'follow_request_sent': False, 'notifications': False, 'translator_type': 'none'}, id=3167734591, id_str='3167734591', name='Visual Studio Code', screen_name='code', location='Redmond, WA, USA', description='Microsoft Visual Studio Code lets you build and debug modern web and cloud applications. Visual Studio Code is free and available on Linux, macOS, and Windows.', url='https://t.co/ATpGbOEGMd', entities={'url': {'urls': [{'url': 'https://t.co/ATpGbOEGMd', 'expanded_url': 'https://code.visualstudio.com', 'display_url': 'code.visualstudio.com', 'indices': [0, 23]}]}, 'description': {'urls': []}}, protected=False, followers_count=350126, friends_count=126, listed_count=4482, created_at=datetime.datetime(2015, 4, 22, 16, 53, 9), favourites_count=3771, utc_offset=None, time_zone=None, geo_enabled=False, verified=True, statuses_count=5422, lang=None, contributors_enabled=False, is_translator=False, is_translation_enabled=False, profile_background_color='3B94D9', profile_background_image_url='http://abs.twimg.com/images/themes/theme10/bg.gif', profile_background_image_url_https='https://abs.twimg.com/images/themes/theme10/bg.gif', profile_background_tile=False, profile_image_url='http://pbs.twimg.com/profile_images/1278357302601347072/BGZIBPH9_normal.jpg', profile_image_url_https='https://pbs.twimg.com/profile_images/1278357302601347072/BGZIBPH9_normal.jpg', profile_banner_url='https://pbs.twimg.com/profile_banners/3167734591/1594141269', profile_link_color='3B94D9', profile_sidebar_border_color='65B0DA', profile_sidebar_fill_color='7AC3EE', profile_text_color='3D1957', profile_use_background_image=True, has_extended_profile=False, default_profile=False, default_profile_image=False, following=False, follow_request_sent=False, notifications=False, translator_type='none'), user=User(_api=<tweepy.api.API object at 0x7f380baf0d90>, _json={'id': 3167734591, 'id_str': '3167734591', 'name': 'Visual Studio Code', 'screen_name': 'code', 'location': 'Redmond, WA, USA', 'description': 'Microsoft Visual Studio Code lets you build and debug modern web and cloud applications. Visual Studio Code is free and available on Linux, macOS, and Windows.', 'url': 'https://t.co/ATpGbOEGMd', 'entities': {'url': {'urls': [{'url': 'https://t.co/ATpGbOEGMd', 'expanded_url': 'https://code.visualstudio.com', 'display_url': 'code.visualstudio.com', 'indices': [0, 23]}]}, 'description': {'urls': []}}, 'protected': False, 'followers_count': 350126, 'friends_count': 126, 'listed_count': 4482, 'created_at': 'Wed Apr 22 16:53:09 +0000 2015', 'favourites_count': 3771, 'utc_offset': None, 'time_zone': None, 'geo_enabled': False, 'verified': True, 'statuses_count': 5422, 'lang': None, 'contributors_enabled': False, 'is_translator': False, 'is_translation_enabled': False, 'profile_background_color': '3B94D9', 'profile_background_image_url': 'http://abs.twimg.com/images/themes/theme10/bg.gif', 'profile_background_image_url_https': 'https://abs.twimg.com/images/themes/theme10/bg.gif', 'profile_background_tile': False, 'profile_image_url': 'http://pbs.twimg.com/profile_images/1278357302601347072/BGZIBPH9_normal.jpg', 'profile_image_url_https': 'https://pbs.twimg.com/profile_images/1278357302601347072/BGZIBPH9_normal.jpg', 'profile_banner_url': 'https://pbs.twimg.com/profile_banners/3167734591/1594141269', 'profile_link_color': '3B94D9', 'profile_sidebar_border_color': '65B0DA', 'profile_sidebar_fill_color': '7AC3EE', 'profile_text_color': '3D1957', 'profile_use_background_image': True, 'has_extended_profile': False, 'default_profile': False, 'default_profile_image': False, 'following': False, 'follow_request_sent': False, 'notifications': False, 'translator_type': 'none'}, id=3167734591, id_str='3167734591', name='Visual Studio Code', screen_name='code', location='Redmond, WA, USA', description='Microsoft Visual Studio Code lets you build and debug modern web and cloud applications. Visual Studio Code is free and available on Linux, macOS, and Windows.', url='https://t.co/ATpGbOEGMd', entities={'url': {'urls': [{'url': 'https://t.co/ATpGbOEGMd', 'expanded_url': 'https://code.visualstudio.com', 'display_url': 'code.visualstudio.com', 'indices': [0, 23]}]}, 'description': {'urls': []}}, protected=False, followers_count=350126, friends_count=126, listed_count=4482, created_at=datetime.datetime(2015, 4, 22, 16, 53, 9), favourites_count=3771, utc_offset=None, time_zone=None, geo_enabled=False, verified=True, statuses_count=5422, lang=None, contributors_enabled=False, is_translator=False, is_translation_enabled=False, profile_background_color='3B94D9', profile_background_image_url='http://abs.twimg.com/images/themes/theme10/bg.gif', profile_background_image_url_https='https://abs.twimg.com/images/themes/theme10/bg.gif', profile_background_tile=False, profile_image_url='http://pbs.twimg.com/profile_images/1278357302601347072/BGZIBPH9_normal.jpg', profile_image_url_https='https://pbs.twimg.com/profile_images/1278357302601347072/BGZIBPH9_normal.jpg', profile_banner_url='https://pbs.twimg.com/profile_banners/3167734591/1594141269', profile_link_color='3B94D9', profile_sidebar_border_color='65B0DA', profile_sidebar_fill_color='7AC3EE', profile_text_color='3D1957', profile_use_background_image=True, has_extended_profile=False, default_profile=False, default_profile_image=False, following=False, follow_request_sent=False, notifications=False, translator_type='none'), geo=None, coordinates=None, place=None, contributors=None, retweeted_status=Status(_api=<tweepy.api.API object at 0x7f380baf0d90>, _json={'created_at': 'Fri Mar 12 16:56:16 +0000 2021', 'id': 1370418376468668417, 'id_str': '1370418376468668417', 'text': 'Yesterday I talked about VS Code on Apple Silicon and how you can still code in an x86/Intel environment if you nee… https://t.co/KaG7afsQvm', 'truncated': True, 'entities': {'hashtags': [], 'symbols': [], 'user_mentions': [], 'urls': [{'url': 'https://t.co/KaG7afsQvm', 'expanded_url': 'https://twitter.com/i/web/status/1370418376468668417', 'display_url': 'twitter.com/i/web/status/1…', 'indices': [117, 140]}]}, 'source': '<a href=\"https://mobile.twitter.com\" rel=\"nofollow\">Twitter Web App</a>', 'in_reply_to_status_id': None, 'in_reply_to_status_id_str': None, 'in_reply_to_user_id': None, 'in_reply_to_user_id_str': None, 'in_reply_to_screen_name': None, 'user': {'id': 210514288, 'id_str': '210514288', 'name': 'Ale(ssandro) Segala', 'screen_name': 'ItalyPaleAle', 'location': 'Seattle, WA', 'description': 'Cooker of great risotto. Sometimes tech nerd. Driving dev tools, @code & open source @Microsoft @Azure ☁️ Opinions are mine 🇮🇹🇨🇦🇺🇸', 'url': None, 'entities': {'description': {'urls': []}}, 'protected': False, 'followers_count': 973, 'friends_count': 599, 'listed_count': 28, 'created_at': 'Sun Oct 31 16:24:32 +0000 2010', 'favourites_count': 2660, 'utc_offset': None, 'time_zone': None, 'geo_enabled': True, 'verified': False, 'statuses_count': 2038, 'lang': None, 'contributors_enabled': False, 'is_translator': False, 'is_translation_enabled': False, 'profile_background_color': '000000', 'profile_background_image_url': 'http://abs.twimg.com/images/themes/theme1/bg.png', 'profile_background_image_url_https': 'https://abs.twimg.com/images/themes/theme1/bg.png', 'profile_background_tile': False, 'profile_image_url': 'http://pbs.twimg.com/profile_images/1197656824435970048/ZNGBFDAU_normal.jpg', 'profile_image_url_https': 'https://pbs.twimg.com/profile_images/1197656824435970048/ZNGBFDAU_normal.jpg', 'profile_link_color': '1B95E0', 'profile_sidebar_border_color': '000000', 'profile_sidebar_fill_color': '000000', 'profile_text_color': '000000', 'profile_use_background_image': False, 'has_extended_profile': True, 'default_profile': False, 'default_profile_image': False, 'following': False, 'follow_request_sent': False, 'notifications': False, 'translator_type': 'regular'}, 'geo': None, 'coordinates': None, 'place': None, 'contributors': None, 'is_quote_status': True, 'quoted_status_id': 1370417310138310657, 'quoted_status_id_str': '1370417310138310657', 'quoted_status': {'created_at': 'Fri Mar 12 16:52:02 +0000 2021', 'id': 1370417310138310657, 'id_str': '1370417310138310657', 'text': 'Our Release Party for VS Code 1.54 was a lot of fun! 😁 Thanks @eamodio, @ItalyPaleAle and @miguelsolorio_ for showi… https://t.co/7RezIPVP9k', 'truncated': True, 'entities': {'hashtags': [], 'symbols': [], 'user_mentions': [{'screen_name': 'eamodio', 'name': 'Eric Amodio', 'id': 24541812, 'id_str': '24541812', 'indices': [62, 70]}, {'screen_name': 'ItalyPaleAle', 'name': 'Ale(ssandro) Segala', 'id': 210514288, 'id_str': '210514288', 'indices': [72, 85]}, {'screen_name': 'miguelsolorio_', 'name': 'Miguel Solorio', 'id': 836722389446721536, 'id_str': '836722389446721536', 'indices': [90, 105]}], 'urls': [{'url': 'https://t.co/7RezIPVP9k', 'expanded_url': 'https://twitter.com/i/web/status/1370417310138310657', 'display_url': 'twitter.com/i/web/status/1…', 'indices': [117, 140]}]}, 'source': '<a href=\"https://buffer.com\" rel=\"nofollow\">Buffer</a>', 'in_reply_to_status_id': None, 'in_reply_to_status_id_str': None, 'in_reply_to_user_id': None, 'in_reply_to_user_id_str': None, 'in_reply_to_screen_name': None, 'user': {'id': 3167734591, 'id_str': '3167734591', 'name': 'Visual Studio Code', 'screen_name': 'code', 'location': 'Redmond, WA, USA', 'description': 'Microsoft Visual Studio Code lets you build and debug modern web and cloud applications. Visual Studio Code is free and available on Linux, macOS, and Windows.', 'url': 'https://t.co/ATpGbOEGMd', 'entities': {'url': {'urls': [{'url': 'https://t.co/ATpGbOEGMd', 'expanded_url': 'https://code.visualstudio.com', 'display_url': 'code.visualstudio.com', 'indices': [0, 23]}]}, 'description': {'urls': []}}, 'protected': False, 'followers_count': 350126, 'friends_count': 126, 'listed_count': 4482, 'created_at': 'Wed Apr 22 16:53:09 +0000 2015', 'favourites_count': 3771, 'utc_offset': None, 'time_zone': None, 'geo_enabled': False, 'verified': True, 'statuses_count': 5422, 'lang': None, 'contributors_enabled': False, 'is_translator': False, 'is_translation_enabled': False, 'profile_background_color': '3B94D9', 'profile_background_image_url': 'http://abs.twimg.com/images/themes/theme10/bg.gif', 'profile_background_image_url_https': 'https://abs.twimg.com/images/themes/theme10/bg.gif', 'profile_background_tile': False, 'profile_image_url': 'http://pbs.twimg.com/profile_images/1278357302601347072/BGZIBPH9_normal.jpg', 'profile_image_url_https': 'https://pbs.twimg.com/profile_images/1278357302601347072/BGZIBPH9_normal.jpg', 'profile_banner_url': 'https://pbs.twimg.com/profile_banners/3167734591/1594141269', 'profile_link_color': '3B94D9', 'profile_sidebar_border_color': '65B0DA', 'profile_sidebar_fill_color': '7AC3EE', 'profile_text_color': '3D1957', 'profile_use_background_image': True, 'has_extended_profile': False, 'default_profile': False, 'default_profile_image': False, 'following': False, 'follow_request_sent': False, 'notifications': False, 'translator_type': 'none'}, 'geo': None, 'coordinates': None, 'place': None, 'contributors': None, 'is_quote_status': False, 'retweet_count': 19, 'favorite_count': 121, 'favorited': False, 'retweeted': False, 'possibly_sensitive': False, 'lang': 'en'}, 'retweet_count': 4, 'favorite_count': 31, 'favorited': True, 'retweeted': False, 'possibly_sensitive': False, 'lang': 'en'}, created_at=datetime.datetime(2021, 3, 12, 16, 56, 16), id=1370418376468668417, id_str='1370418376468668417', text='Yesterday I talked about VS Code on Apple Silicon and how you can still code in an x86/Intel environment if you nee… https://t.co/KaG7afsQvm', truncated=True, entities={'hashtags': [], 'symbols': [], 'user_mentions': [], 'urls': [{'url': 'https://t.co/KaG7afsQvm', 'expanded_url': 'https://twitter.com/i/web/status/1370418376468668417', 'display_url': 'twitter.com/i/web/status/1…', 'indices': [117, 140]}]}, source='Twitter Web App', source_url='https://mobile.twitter.com', in_reply_to_status_id=None, in_reply_to_status_id_str=None, in_reply_to_user_id=None, in_reply_to_user_id_str=None, in_reply_to_screen_name=None, author=User(_api=<tweepy.api.API object at 0x7f380baf0d90>, _json={'id': 210514288, 'id_str': '210514288', 'name': 'Ale(ssandro) Segala', 'screen_name': 'ItalyPaleAle', 'location': 'Seattle, WA', 'description': 'Cooker of great risotto. Sometimes tech nerd. Driving dev tools, @code & open source @Microsoft @Azure ☁️ Opinions are mine 🇮🇹🇨🇦🇺🇸', 'url': None, 'entities': {'description': {'urls': []}}, 'protected': False, 'followers_count': 973, 'friends_count': 599, 'listed_count': 28, 'created_at': 'Sun Oct 31 16:24:32 +0000 2010', 'favourites_count': 2660, 'utc_offset': None, 'time_zone': None, 'geo_enabled': True, 'verified': False, 'statuses_count': 2038, 'lang': None, 'contributors_enabled': False, 'is_translator': False, 'is_translation_enabled': False, 'profile_background_color': '000000', 'profile_background_image_url': 'http://abs.twimg.com/images/themes/theme1/bg.png', 'profile_background_image_url_https': 'https://abs.twimg.com/images/themes/theme1/bg.png', 'profile_background_tile': False, 'profile_image_url': 'http://pbs.twimg.com/profile_images/1197656824435970048/ZNGBFDAU_normal.jpg', 'profile_image_url_https': 'https://pbs.twimg.com/profile_images/1197656824435970048/ZNGBFDAU_normal.jpg', 'profile_link_color': '1B95E0', 'profile_sidebar_border_color': '000000', 'profile_sidebar_fill_color': '000000', 'profile_text_color': '000000', 'profile_use_background_image': False, 'has_extended_profile': True, 'default_profile': False, 'default_profile_image': False, 'following': False, 'follow_request_sent': False, 'notifications': False, 'translator_type': 'regular'}, id=210514288, id_str='210514288', name='Ale(ssandro) Segala', screen_name='ItalyPaleAle', location='Seattle, WA', description='Cooker of great risotto. Sometimes tech nerd. Driving dev tools, @code & open source @Microsoft @Azure ☁️ Opinions are mine 🇮🇹🇨🇦🇺🇸', url=None, entities={'description': {'urls': []}}, protected=False, followers_count=973, friends_count=599, listed_count=28, created_at=datetime.datetime(2010, 10, 31, 16, 24, 32), favourites_count=2660, utc_offset=None, time_zone=None, geo_enabled=True, verified=False, statuses_count=2038, lang=None, contributors_enabled=False, is_translator=False, is_translation_enabled=False, profile_background_color='000000', profile_background_image_url='http://abs.twimg.com/images/themes/theme1/bg.png', profile_background_image_url_https='https://abs.twimg.com/images/themes/theme1/bg.png', profile_background_tile=False, profile_image_url='http://pbs.twimg.com/profile_images/1197656824435970048/ZNGBFDAU_normal.jpg', profile_image_url_https='https://pbs.twimg.com/profile_images/1197656824435970048/ZNGBFDAU_normal.jpg', profile_link_color='1B95E0', profile_sidebar_border_color='000000', profile_sidebar_fill_color='000000', profile_text_color='000000', profile_use_background_image=False, has_extended_profile=True, default_profile=False, default_profile_image=False, following=False, follow_request_sent=False, notifications=False, translator_type='regular'), user=User(_api=<tweepy.api.API object at 0x7f380baf0d90>, _json={'id': 210514288, 'id_str': '210514288', 'name': 'Ale(ssandro) Segala', 'screen_name': 'ItalyPaleAle', 'location': 'Seattle, WA', 'description': 'Cooker of great risotto. Sometimes tech nerd. Driving dev tools, @code & open source @Microsoft @Azure ☁️ Opinions are mine 🇮🇹🇨🇦🇺🇸', 'url': None, 'entities': {'description': {'urls': []}}, 'protected': False, 'followers_count': 973, 'friends_count': 599, 'listed_count': 28, 'created_at': 'Sun Oct 31 16:24:32 +0000 2010', 'favourites_count': 2660, 'utc_offset': None, 'time_zone': None, 'geo_enabled': True, 'verified': False, 'statuses_count': 2038, 'lang': None, 'contributors_enabled': False, 'is_translator': False, 'is_translation_enabled': False, 'profile_background_color': '000000', 'profile_background_image_url': 'http://abs.twimg.com/images/themes/theme1/bg.png', 'profile_background_image_url_https': 'https://abs.twimg.com/images/themes/theme1/bg.png', 'profile_background_tile': False, 'profile_image_url': 'http://pbs.twimg.com/profile_images/1197656824435970048/ZNGBFDAU_normal.jpg', 'profile_image_url_https': 'https://pbs.twimg.com/profile_images/1197656824435970048/ZNGBFDAU_normal.jpg', 'profile_link_color': '1B95E0', 'profile_sidebar_border_color': '000000', 'profile_sidebar_fill_color': '000000', 'profile_text_color': '000000', 'profile_use_background_image': False, 'has_extended_profile': True, 'default_profile': False, 'default_profile_image': False, 'following': False, 'follow_request_sent': False, 'notifications': False, 'translator_type': 'regular'}, id=210514288, id_str='210514288', name='Ale(ssandro) Segala', screen_name='ItalyPaleAle', location='Seattle, WA', description='Cooker of great risotto. Sometimes tech nerd. Driving dev tools, @code & open source @Microsoft @Azure ☁️ Opinions are mine 🇮🇹🇨🇦🇺🇸', url=None, entities={'description': {'urls': []}}, protected=False, followers_count=973, friends_count=599, listed_count=28, created_at=datetime.datetime(2010, 10, 31, 16, 24, 32), favourites_count=2660, utc_offset=None, time_zone=None, geo_enabled=True, verified=False, statuses_count=2038, lang=None, contributors_enabled=False, is_translator=False, is_translation_enabled=False, profile_background_color='000000', profile_background_image_url='http://abs.twimg.com/images/themes/theme1/bg.png', profile_background_image_url_https='https://abs.twimg.com/images/themes/theme1/bg.png', profile_background_tile=False, profile_image_url='http://pbs.twimg.com/profile_images/1197656824435970048/ZNGBFDAU_normal.jpg', profile_image_url_https='https://pbs.twimg.com/profile_images/1197656824435970048/ZNGBFDAU_normal.jpg', profile_link_color='1B95E0', profile_sidebar_border_color='000000', profile_sidebar_fill_color='000000', profile_text_color='000000', profile_use_background_image=False, has_extended_profile=True, default_profile=False, default_profile_image=False, following=False, follow_request_sent=False, notifications=False, translator_type='regular'), geo=None, coordinates=None, place=None, contributors=None, is_quote_status=True, quoted_status_id=1370417310138310657, quoted_status_id_str='1370417310138310657', quoted_status=Status(_api=<tweepy.api.API object at 0x7f380baf0d90>, _json={'created_at': 'Fri Mar 12 16:52:02 +0000 2021', 'id': 1370417310138310657, 'id_str': '1370417310138310657', 'text': 'Our Release Party for VS Code 1.54 was a lot of fun! 😁 Thanks @eamodio, @ItalyPaleAle and @miguelsolorio_ for showi… https://t.co/7RezIPVP9k', 'truncated': True, 'entities': {'hashtags': [], 'symbols': [], 'user_mentions': [{'screen_name': 'eamodio', 'name': 'Eric Amodio', 'id': 24541812, 'id_str': '24541812', 'indices': [62, 70]}, {'screen_name': 'ItalyPaleAle', 'name': 'Ale(ssandro) Segala', 'id': 210514288, 'id_str': '210514288', 'indices': [72, 85]}, {'screen_name': 'miguelsolorio_', 'name': 'Miguel Solorio', 'id': 836722389446721536, 'id_str': '836722389446721536', 'indices': [90, 105]}], 'urls': [{'url': 'https://t.co/7RezIPVP9k', 'expanded_url': 'https://twitter.com/i/web/status/1370417310138310657', 'display_url': 'twitter.com/i/web/status/1…', 'indices': [117, 140]}]}, 'source': '<a href=\"https://buffer.com\" rel=\"nofollow\">Buffer</a>', 'in_reply_to_status_id': None, 'in_reply_to_status_id_str': None, 'in_reply_to_user_id': None, 'in_reply_to_user_id_str': None, 'in_reply_to_screen_name': None, 'user': {'id': 3167734591, 'id_str': '3167734591', 'name': 'Visual Studio Code', 'screen_name': 'code', 'location': 'Redmond, WA, USA', 'description': 'Microsoft Visual Studio Code lets you build and debug modern web and cloud applications. Visual Studio Code is free and available on Linux, macOS, and Windows.', 'url': 'https://t.co/ATpGbOEGMd', 'entities': {'url': {'urls': [{'url': 'https://t.co/ATpGbOEGMd', 'expanded_url': 'https://code.visualstudio.com', 'display_url': 'code.visualstudio.com', 'indices': [0, 23]}]}, 'description': {'urls': []}}, 'protected': False, 'followers_count': 350126, 'friends_count': 126, 'listed_count': 4482, 'created_at': 'Wed Apr 22 16:53:09 +0000 2015', 'favourites_count': 3771, 'utc_offset': None, 'time_zone': None, 'geo_enabled': False, 'verified': True, 'statuses_count': 5422, 'lang': None, 'contributors_enabled': False, 'is_translator': False, 'is_translation_enabled': False, 'profile_background_color': '3B94D9', 'profile_background_image_url': 'http://abs.twimg.com/images/themes/theme10/bg.gif', 'profile_background_image_url_https': 'https://abs.twimg.com/images/themes/theme10/bg.gif', 'profile_background_tile': False, 'profile_image_url': 'http://pbs.twimg.com/profile_images/1278357302601347072/BGZIBPH9_normal.jpg', 'profile_image_url_https': 'https://pbs.twimg.com/profile_images/1278357302601347072/BGZIBPH9_normal.jpg', 'profile_banner_url': 'https://pbs.twimg.com/profile_banners/3167734591/1594141269', 'profile_link_color': '3B94D9', 'profile_sidebar_border_color': '65B0DA', 'profile_sidebar_fill_color': '7AC3EE', 'profile_text_color': '3D1957', 'profile_use_background_image': True, 'has_extended_profile': False, 'default_profile': False, 'default_profile_image': False, 'following': False, 'follow_request_sent': False, 'notifications': False, 'translator_type': 'none'}, 'geo': None, 'coordinates': None, 'place': None, 'contributors': None, 'is_quote_status': False, 'retweet_count': 19, 'favorite_count': 121, 'favorited': False, 'retweeted': False, 'possibly_sensitive': False, 'lang': 'en'}, created_at=datetime.datetime(2021, 3, 12, 16, 52, 2), id=1370417310138310657, id_str='1370417310138310657', text='Our Release Party for VS Code 1.54 was a lot of fun! 😁 Thanks @eamodio, @ItalyPaleAle and @miguelsolorio_ for showi… https://t.co/7RezIPVP9k', truncated=True, entities={'hashtags': [], 'symbols': [], 'user_mentions': [{'screen_name': 'eamodio', 'name': 'Eric Amodio', 'id': 24541812, 'id_str': '24541812', 'indices': [62, 70]}, {'screen_name': 'ItalyPaleAle', 'name': 'Ale(ssandro) Segala', 'id': 210514288, 'id_str': '210514288', 'indices': [72, 85]}, {'screen_name': 'miguelsolorio_', 'name': 'Miguel Solorio', 'id': 836722389446721536, 'id_str': '836722389446721536', 'indices': [90, 105]}], 'urls': [{'url': 'https://t.co/7RezIPVP9k', 'expanded_url': 'https://twitter.com/i/web/status/1370417310138310657', 'display_url': 'twitter.com/i/web/status/1…', 'indices': [117, 140]}]}, source='Buffer', source_url='https://buffer.com', in_reply_to_status_id=None, in_reply_to_status_id_str=None, in_reply_to_user_id=None, in_reply_to_user_id_str=None, in_reply_to_screen_name=None, author=User(_api=<tweepy.api.API object at 0x7f380baf0d90>, _json={'id': 3167734591, 'id_str': '3167734591', 'name': 'Visual Studio Code', 'screen_name': 'code', 'location': 'Redmond, WA, USA', 'description': 'Microsoft Visual Studio Code lets you build and debug modern web and cloud applications. Visual Studio Code is free and available on Linux, macOS, and Windows.', 'url': 'https://t.co/ATpGbOEGMd', 'entities': {'url': {'urls': [{'url': 'https://t.co/ATpGbOEGMd', 'expanded_url': 'https://code.visualstudio.com', 'display_url': 'code.visualstudio.com', 'indices': [0, 23]}]}, 'description': {'urls': []}}, 'protected': False, 'followers_count': 350126, 'friends_count': 126, 'listed_count': 4482, 'created_at': 'Wed Apr 22 16:53:09 +0000 2015', 'favourites_count': 3771, 'utc_offset': None, 'time_zone': None, 'geo_enabled': False, 'verified': True, 'statuses_count': 5422, 'lang': None, 'contributors_enabled': False, 'is_translator': False, 'is_translation_enabled': False, 'profile_background_color': '3B94D9', 'profile_background_image_url': 'http://abs.twimg.com/images/themes/theme10/bg.gif', 'profile_background_image_url_https': 'https://abs.twimg.com/images/themes/theme10/bg.gif', 'profile_background_tile': False, 'profile_image_url': 'http://pbs.twimg.com/profile_images/1278357302601347072/BGZIBPH9_normal.jpg', 'profile_image_url_https': 'https://pbs.twimg.com/profile_images/1278357302601347072/BGZIBPH9_normal.jpg', 'profile_banner_url': 'https://pbs.twimg.com/profile_banners/3167734591/1594141269', 'profile_link_color': '3B94D9', 'profile_sidebar_border_color': '65B0DA', 'profile_sidebar_fill_color': '7AC3EE', 'profile_text_color': '3D1957', 'profile_use_background_image': True, 'has_extended_profile': False, 'default_profile': False, 'default_profile_image': False, 'following': False, 'follow_request_sent': False, 'notifications': False, 'translator_type': 'none'}, id=3167734591, id_str='3167734591', name='Visual Studio Code', screen_name='code', location='Redmond, WA, USA', description='Microsoft Visual Studio Code lets you build and debug modern web and cloud applications. Visual Studio Code is free and available on Linux, macOS, and Windows.', url='https://t.co/ATpGbOEGMd', entities={'url': {'urls': [{'url': 'https://t.co/ATpGbOEGMd', 'expanded_url': 'https://code.visualstudio.com', 'display_url': 'code.visualstudio.com', 'indices': [0, 23]}]}, 'description': {'urls': []}}, protected=False, followers_count=350126, friends_count=126, listed_count=4482, created_at=datetime.datetime(2015, 4, 22, 16, 53, 9), favourites_count=3771, utc_offset=None, time_zone=None, geo_enabled=False, verified=True, statuses_count=5422, lang=None, contributors_enabled=False, is_translator=False, is_translation_enabled=False, profile_background_color='3B94D9', profile_background_image_url='http://abs.twimg.com/images/themes/theme10/bg.gif', profile_background_image_url_https='https://abs.twimg.com/images/themes/theme10/bg.gif', profile_background_tile=False, profile_image_url='http://pbs.twimg.com/profile_images/1278357302601347072/BGZIBPH9_normal.jpg', profile_image_url_https='https://pbs.twimg.com/profile_images/1278357302601347072/BGZIBPH9_normal.jpg', profile_banner_url='https://pbs.twimg.com/profile_banners/3167734591/1594141269', profile_link_color='3B94D9', profile_sidebar_border_color='65B0DA', profile_sidebar_fill_color='7AC3EE', profile_text_color='3D1957', profile_use_background_image=True, has_extended_profile=False, default_profile=False, default_profile_image=False, following=False, follow_request_sent=False, notifications=False, translator_type='none'), user=User(_api=<tweepy.api.API object at 0x7f380baf0d90>, _json={'id': 3167734591, 'id_str': '3167734591', 'name': 'Visual Studio Code', 'screen_name': 'code', 'location': 'Redmond, WA, USA', 'description': 'Microsoft Visual Studio Code lets you build and debug modern web and cloud applications. Visual Studio Code is free and available on Linux, macOS, and Windows.', 'url': 'https://t.co/ATpGbOEGMd', 'entities': {'url': {'urls': [{'url': 'https://t.co/ATpGbOEGMd', 'expanded_url': 'https://code.visualstudio.com', 'display_url': 'code.visualstudio.com', 'indices': [0, 23]}]}, 'description': {'urls': []}}, 'protected': False, 'followers_count': 350126, 'friends_count': 126, 'listed_count': 4482, 'created_at': 'Wed Apr 22 16:53:09 +0000 2015', 'favourites_count': 3771, 'utc_offset': None, 'time_zone': None, 'geo_enabled': False, 'verified': True, 'statuses_count': 5422, 'lang': None, 'contributors_enabled': False, 'is_translator': False, 'is_translation_enabled': False, 'profile_background_color': '3B94D9', 'profile_background_image_url': 'http://abs.twimg.com/images/themes/theme10/bg.gif', 'profile_background_image_url_https': 'https://abs.twimg.com/images/themes/theme10/bg.gif', 'profile_background_tile': False, 'profile_image_url': 'http://pbs.twimg.com/profile_images/1278357302601347072/BGZIBPH9_normal.jpg', 'profile_image_url_https': 'https://pbs.twimg.com/profile_images/1278357302601347072/BGZIBPH9_normal.jpg', 'profile_banner_url': 'https://pbs.twimg.com/profile_banners/3167734591/1594141269', 'profile_link_color': '3B94D9', 'profile_sidebar_border_color': '65B0DA', 'profile_sidebar_fill_color': '7AC3EE', 'profile_text_color': '3D1957', 'profile_use_background_image': True, 'has_extended_profile': False, 'default_profile': False, 'default_profile_image': False, 'following': False, 'follow_request_sent': False, 'notifications': False, 'translator_type': 'none'}, id=3167734591, id_str='3167734591', name='Visual Studio Code', screen_name='code', location='Redmond, WA, USA', description='Microsoft Visual Studio Code lets you build and debug modern web and cloud applications. Visual Studio Code is free and available on Linux, macOS, and Windows.', url='https://t.co/ATpGbOEGMd', entities={'url': {'urls': [{'url': 'https://t.co/ATpGbOEGMd', 'expanded_url': 'https://code.visualstudio.com', 'display_url': 'code.visualstudio.com', 'indices': [0, 23]}]}, 'description': {'urls': []}}, protected=False, followers_count=350126, friends_count=126, listed_count=4482, created_at=datetime.datetime(2015, 4, 22, 16, 53, 9), favourites_count=3771, utc_offset=None, time_zone=None, geo_enabled=False, verified=True, statuses_count=5422, lang=None, contributors_enabled=False, is_translator=False, is_translation_enabled=False, profile_background_color='3B94D9', profile_background_image_url='http://abs.twimg.com/images/themes/theme10/bg.gif', profile_background_image_url_https='https://abs.twimg.com/images/themes/theme10/bg.gif', profile_background_tile=False, profile_image_url='http://pbs.twimg.com/profile_images/1278357302601347072/BGZIBPH9_normal.jpg', profile_image_url_https='https://pbs.twimg.com/profile_images/1278357302601347072/BGZIBPH9_normal.jpg', profile_banner_url='https://pbs.twimg.com/profile_banners/3167734591/1594141269', profile_link_color='3B94D9', profile_sidebar_border_color='65B0DA', profile_sidebar_fill_color='7AC3EE', profile_text_color='3D1957', profile_use_background_image=True, has_extended_profile=False, default_profile=False, default_profile_image=False, following=False, follow_request_sent=False, notifications=False, translator_type='none'), geo=None, coordinates=None, place=None, contributors=None, is_quote_status=False, retweet_count=19, favorite_count=121, favorited=False, retweeted=False, possibly_sensitive=False, lang='en'), retweet_count=4, favorite_count=31, favorited=True, retweeted=False, possibly_sensitive=False, lang='en'), is_quote_status=True, quoted_status_id=1370417310138310657, quoted_status_id_str='1370417310138310657', retweet_count=4, favorite_count=0, favorited=True, retweeted=False, lang='en')"
      ]
     },
     "execution_count": 26,
     "metadata": {},
     "output_type": "execute_result"
    }
   ],
   "source": [
    "api.create_favorite(status_obj_id)\n",
    "# api.destroy_favorite(status_obj_id)"
   ]
  },
  {
   "cell_type": "code",
   "execution_count": 27,
   "id": "acute-parts",
   "metadata": {},
   "outputs": [],
   "source": [
    "og_tweet = api.get_status('1370456309250805762')\n",
    "my_reply = api.update_status(f\"@{og_tweet.user.screen_name} Wow this is Cool.\", og_tweet.id)"
   ]
  },
  {
   "cell_type": "code",
   "execution_count": 29,
   "id": "clean-kruger",
   "metadata": {},
   "outputs": [
    {
     "data": {
      "text/plain": [
       "'@code Wow this is Cool.'"
      ]
     },
     "execution_count": 29,
     "metadata": {},
     "output_type": "execute_result"
    }
   ],
   "source": [
    "my_reply.text"
   ]
  },
  {
   "cell_type": "code",
   "execution_count": null,
   "id": "coupled-health",
   "metadata": {},
   "outputs": [],
   "source": []
  }
 ],
 "metadata": {
  "kernelspec": {
   "display_name": "Python 3",
   "language": "python",
   "name": "python3"
  },
  "language_info": {
   "codemirror_mode": {
    "name": "ipython",
    "version": 3
   },
   "file_extension": ".py",
   "mimetype": "text/x-python",
   "name": "python",
   "nbconvert_exporter": "python",
   "pygments_lexer": "ipython3",
   "version": "3.8.5"
  }
 },
 "nbformat": 4,
 "nbformat_minor": 5
}
