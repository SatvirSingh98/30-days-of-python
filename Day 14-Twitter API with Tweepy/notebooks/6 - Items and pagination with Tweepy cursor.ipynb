{
 "cells": [
  {
   "cell_type": "code",
   "execution_count": 1,
   "id": "developmental-privacy",
   "metadata": {},
   "outputs": [],
   "source": [
    "import tweepy\n",
    "import webbrowser\n",
    "from time import sleep\n",
    "from decouple import config\n",
    "import pandas as pd"
   ]
  },
  {
   "cell_type": "code",
   "execution_count": 2,
   "id": "executed-directive",
   "metadata": {},
   "outputs": [],
   "source": [
    "consumer_key = config('API_KEY')\n",
    "consumer_secret = config('API_SECRET_KEY')"
   ]
  },
  {
   "cell_type": "code",
   "execution_count": 3,
   "id": "broken-notion",
   "metadata": {},
   "outputs": [],
   "source": [
    "callback_uri = 'oob'"
   ]
  },
  {
   "cell_type": "code",
   "execution_count": 4,
   "id": "surprising-header",
   "metadata": {},
   "outputs": [],
   "source": [
    "auth = tweepy.OAuthHandler(consumer_key, consumer_secret, callback_uri)"
   ]
  },
  {
   "cell_type": "code",
   "execution_count": 5,
   "id": "adverse-friend",
   "metadata": {},
   "outputs": [],
   "source": [
    "try:\n",
    "    redirect_url = auth.get_authorization_url()\n",
    "except tweepy.TweepError:\n",
    "    print('Error! Failed to get request token.')"
   ]
  },
  {
   "cell_type": "code",
   "execution_count": 6,
   "id": "environmental-drove",
   "metadata": {},
   "outputs": [
    {
     "data": {
      "text/plain": [
       "True"
      ]
     },
     "execution_count": 6,
     "metadata": {},
     "output_type": "execute_result"
    }
   ],
   "source": [
    "webbrowser.open(redirect_url)"
   ]
  },
  {
   "cell_type": "code",
   "execution_count": 7,
   "id": "linear-devil",
   "metadata": {},
   "outputs": [
    {
     "name": "stdout",
     "output_type": "stream",
     "text": [
      "Enter the pin value: 3727437\n"
     ]
    }
   ],
   "source": [
    "user_pin_input = int(input(\"Enter the pin value: \"))"
   ]
  },
  {
   "cell_type": "code",
   "execution_count": 8,
   "id": "overhead-solomon",
   "metadata": {},
   "outputs": [],
   "source": [
    "# it will get access keys for that particular user\n",
    "try:\n",
    "    auth.get_access_token(str(user_pin_input))\n",
    "except tweepy.TweepError:\n",
    "    print('Error! Failed to get access token.')"
   ]
  },
  {
   "cell_type": "code",
   "execution_count": 9,
   "id": "universal-vietnam",
   "metadata": {},
   "outputs": [],
   "source": [
    "api = tweepy.API(auth)"
   ]
  },
  {
   "cell_type": "code",
   "execution_count": 10,
   "id": "wooden-lottery",
   "metadata": {},
   "outputs": [
    {
     "data": {
      "text/plain": [
       "'SatvirS54956491'"
      ]
     },
     "execution_count": 10,
     "metadata": {},
     "output_type": "execute_result"
    }
   ],
   "source": [
    "me = api.me()\n",
    "me.screen_name"
   ]
  },
  {
   "cell_type": "code",
   "execution_count": 17,
   "id": "warming-constant",
   "metadata": {},
   "outputs": [
    {
     "data": {
      "text/plain": [
       "49"
      ]
     },
     "execution_count": 17,
     "metadata": {},
     "output_type": "execute_result"
    }
   ],
   "source": [
    "# does not give all the tweets so we use tweepy cursor\n",
    "len(api.home_timeline(count=50))"
   ]
  },
  {
   "cell_type": "code",
   "execution_count": 18,
   "id": "square-photography",
   "metadata": {},
   "outputs": [
    {
     "name": "stdout",
     "output_type": "stream",
     "text": [
      "1 Happy anniversary GitHub CLI 🥳 It's been a year since launch, and now you can do even more:\n",
      "✔️ auto-merge PRs\n",
      "✔️ ma… https://t.co/ZQbV1Z1ZXH\n",
      "2 Value-focused IVA Funds files to liquidate, close up shop; the $2.5 billion boutique asset manager will shutter its… https://t.co/qd8taiFUmo\n",
      "3 A fun way to learn new coding skills is to build a clone of a popular app.\n",
      "\n",
      "Like Twitter, for example – and this co… https://t.co/bL8zdsjOfa\n",
      "4 Wealthtechs launch personalization tools for advisers https://t.co/QkF7JbUyCx via @investmentnews https://t.co/UFxkKHVYqd\n",
      "5 Getting equity comp? Better have a financial plan, report finds. Companies that compensate workers with stock have… https://t.co/tEuwzA5pSw\n",
      "6 CI Financial notches 15th RIA acquisition in as many months https://t.co/OG74Dp4FqV via @investmentnews https://t.co/6bqlPbpSFr\n",
      "7 Businesses are increasingly data-driven - and they need a way to visualize that data so it's easier to analyze.\n",
      "\n",
      "If… https://t.co/x4SMpeyPQG\n",
      "8 Labor Department won’t enforce two Trump-era ESG rules https://t.co/sXPuqdS5ha @investmentnews https://t.co/bzsPo7UTot\n",
      "9 @code Wow this is Cool.\n",
      "10 Booming SPAC market draws SEC scrutiny; the vehicles are touted for democratizing markets, but the SEC says they co… https://t.co/iPniPaThtk\n",
      "11 Creating a good scalable file structure for your front end projects can be tricky.\n",
      "\n",
      "And un-opinionated tools like R… https://t.co/TjFuhtUhXK\n",
      "12 CSS Grid is a helpful tool you can use to create sleek layouts for your site.\n",
      "\n",
      "And there's a lot to learn, but don'… https://t.co/A8LzvAktkU\n",
      "13 Higher Orders Functions are functions that perform operations on other functions.\n",
      "\n",
      "And they can help you make your… https://t.co/ksMnCzCXu9\n",
      "14 $60,000.\n",
      "15 Writing is great because it makes you think deeply about a certain topic.\n",
      "\n",
      "Which can really help if you're designin… https://t.co/1TFR9Fl3VF\n",
      "16 When you're building a user interface with React, you'll break stuff down into components.\n",
      "\n",
      "You'll also work with s… https://t.co/D0OSCcEVch\n",
      "17 These days you probably hear a lot about how important it is to protect your personal data.\n",
      "\n",
      "But what does that mea… https://t.co/3T85mUv2mi\n",
      "18 RT @mrdbourke: You spend hours, weeks, years learning the basics\n",
      "\n",
      "So when you perform you can forget all of them\n",
      "\n",
      "And just put on a show\n",
      "19 RT @leereilly: Wrote a little post on @ThePracticalDev about some of GitHub's Easter eggs...\n",
      "\n",
      "✓ ASCII art\n",
      "✓ Roguelike game in your terminal…\n",
      "20 This is a call to hacktion!\n",
      "\n",
      "Remember to stay tuned to @GHSecurityLab for details on the Capture the Flag (CTF) tak… https://t.co/8vp2yBz79f\n",
      "21 Hear all about Access control for GitHub Pages, and how to create private pages for your organization!… https://t.co/UOXqJPxJIH\n",
      "22 Creating complex forms with validation over and over isn't particularly fun.\n",
      "\n",
      "But don't worry – when you're using R… https://t.co/DZH7h0MMCc\n",
      "23 The SEC's ESG disclosure policy must be ‘adaptive,’ ‘innovative,’ says John Coates, acting director of the Division… https://t.co/GMe2A4Gcb4\n",
      "24 Women make up 14% of all fund managers, and the U.S. lags behind that global average: Morningstar… https://t.co/ZORCxMUCMw\n",
      "25 If you're checking out Deno, you might be wondering - can you build something as complex as a NextJS or create-reac… https://t.co/vRW9IPmQP2\n",
      "26 If you want to get a developer job, you need a good grasp of data structures.\n",
      "\n",
      "And this course developed by… https://t.co/5dLBwcZnuO\n",
      "27 SEC charges Texas oil-and-gas fund managers with $17M fraud; Patrick Duke and Paul Haarman of APEG Investors allege… https://t.co/Hpj5qXIzdG\n",
      "28 Building a social media app makes a great portfolio project.\n",
      "\n",
      "It's ambitious &amp; impressive - and you can model it af… https://t.co/xzX6HrhJJt\n",
      "29 RT @RaishS3: Imagine the impact of enabling ANYONE/ANYWHERE to learn data science implementation. FOR FREE? Here’s my big thanks to @freeCo…\n",
      "30 RT @jj_goose: Not sure how I missed this great breakdown of sweet podcasts by @ossia but do yourself a favor and read this - then go subscr…\n",
      "31 RT @CodeKayCode: Being able to one day do something like this is one of my top #Goals! https://t.co/ASGGPsyOq0\n",
      "32 ESG investors focus on exactly what is in their portfolios, as well as who is managing their investment, says Tim C… https://t.co/dnhINxmu3D\n",
      "33 NEW EPISODE🚨Tune in to episode 34 of #HerSuccessMatters! https://t.co/OXHLpA5EPl\n",
      "\n",
      "In this episode, @christineashaw… https://t.co/vDbTXQwq4S\n",
      "34 Voya to serve as record keeper for two new PEPs being launched by Unison Risk Advisors and TAG Advisors… https://t.co/RBGNgxpnC4\n",
      "35 If you want to level up your Python skills, building projects is a great start.\n",
      "\n",
      "So here are a bunch of them - from… https://t.co/nP07kdjA9l\n",
      "36 JPMorgan plans to expose investors to Bitcoin-friendly stocks https://t.co/yWocHSFpC6 via https://t.co/HIElySDqbv https://t.co/VratZJOEzc\n",
      "37 Wells Fargo stops using Abbot Downing name for high-net-worth unit; its business managing ultra-rich clients' money… https://t.co/2aFwAe5APw\n",
      "38 If you have a WordPress site, you can easily host it locally.\n",
      "\n",
      "It can save you money, it's easy to test, you don't… https://t.co/sURgQenKgx\n",
      "39 File systems determine how files are named, stored, &amp; retrieved from storage.\n",
      "\n",
      "And without them, storage devices wo… https://t.co/rd1rNJYS4C\n",
      "40 A big thank-you to this freeCodeCamp alum for her gift to the Data Science Curriculum Pledge Drive. Read her heartf… https://t.co/NF0dqTUAYK\n",
      "41 Want to learn about databases from an Ivy League professor?\n",
      "\n",
      "We've got just the course for you. And it's free.\n",
      "\n",
      "You… https://t.co/7XeY3G75MN\n",
      "42 As a developer, you'll have to look up hex or ASCII values to see what they translate to.\n",
      "\n",
      "Say you want to make sur… https://t.co/WK9c6Xtqnn\n",
      "43 Do more with GitHub CLI. Now you can view comments on issues and PRs, and add new comments. \n",
      "\n",
      "Download GitHub CLI a… https://t.co/BbavO82684\n",
      "44 Do you want to write a web application in Python? Try Flask!\n",
      "\n",
      "In this course from @jimshapedcoding you will learn t… https://t.co/FVhtKg8aY8\n",
      "45 Booming SPAC market draws SEC scrutiny; the vehicles are touted for democratizing markets, but the SEC says they co… https://t.co/C7uu9FS9MJ\n",
      "46 Getting equity comp? Better have a financial plan, report finds. Companies that compensate workers with stock have… https://t.co/RiUeZc9zGg\n",
      "47 Update: The Data Science Curriculum Pledge Drive is 🚂. We are getting there.\n",
      "\n",
      "All donations will be 100% matched (d… https://t.co/QgisVrPjzU\n",
      "48 Morgan Stanley team managing $1.5 billion goes to Rockefeller; Maentz Machlovitch Group in Los Angeles specializes… https://t.co/yMprM9sexJ\n",
      "49 Selenium can automate all sorts of things  - like tests in your web applications.\n",
      "\n",
      "And it can also help you scrape… https://t.co/aV5clm7BLB\n",
      "50 GitHub CLI released in beta one year ago! 🎂 In celebration, @mislav walks through building on top of gh command wit… https://t.co/tPJfmtWs2c\n"
     ]
    }
   ],
   "source": [
    "for i, status in enumerate(tweepy.Cursor(api.home_timeline).items(50)):\n",
    "    print(i+1, status.text)"
   ]
  },
  {
   "cell_type": "markdown",
   "id": "promising-uzbekistan",
   "metadata": {},
   "source": [
    " ### there is 'wait_on_rate_limit' in the api arguments to prevent overloading the twitter"
   ]
  },
  {
   "cell_type": "code",
   "execution_count": 20,
   "id": "electric-appeal",
   "metadata": {},
   "outputs": [
    {
     "name": "stdout",
     "output_type": "stream",
     "text": [
      "1 RT @richboyce4: Edison would like to thank The Rock Dwayne Johnson for his inspirational video he sent to our beloved teacher and coach Aar…\n",
      "2 @thebrianposehn Just did a spit take at this exchange between us. 😂 Hopefully your Target trips have evolved 😂😂🙏🏾🙏🏾😈\n",
      "3 Very cool to see you guys loving the recipe. If ya can, spend a buck or two more on quality ingredients and as our… https://t.co/GJYJxju16X\n",
      "4 @wallyworld1212 @Ford Love the way you think 🥃\n",
      "Currently have my eyes on a 92 Bronco a buddy of mine found for me 👊🏾\n",
      "5 RT @NPRextra: For the full story, listen to NPR’s @TheIndicator episode on how Dwayne \"The Rock\" Johnson helped deliver the pickup truck em…\n",
      "6 🤜🏾🤛🏾\n",
      "My next emoji request is my all black Super Duty dually sitting on 37’s with a a 6” lift 😊\n",
      "🛻💨 https://t.co/pLgz7fBT0M\n",
      "7 RT @CFL: An update from @XFL2022 Owner @TheRock https://t.co/LXPuUphDd1\n",
      "8 Sometimes you have to speak &amp; tweet things into existence. I (and the world) needed a truck emoji. Ladies &amp; gents -… https://t.co/pmEoYDc4IM\n",
      "9 RT @Brentmb9: @TheRock @CFL Exciting man make it happen! Let's grow the best game on the planet\n",
      "10 RT @realSerlo: @TheRock congratulations- so many people will benefit from this amazing opportunity.  Continued success to you and your team…\n",
      "11 Just gotta shake your head at how life can have that funny way of coming full circle. \n",
      "$7bucks. @CFL https://t.co/RPFDBqjwBp\n",
      "12 Yes we have. \n",
      "We always will. \n",
      "Sometimes our greatest dream is the best thing to never happen. \n",
      "💪🏾🖤 @CFL https://t.co/ZYV5mxGvlk\n",
      "13 Our XFL/CFL discussions have been very exciting. My loyalty will always lie with the players and fans. \n",
      "Creating gr… https://t.co/k7IpQJpZti\n",
      "14 RT @BCLions: \"Wherever it all leads, I can tell you this one is personal to me and is driven by all my passion - because me being cut by th…\n",
      "15 Wow thank you for this. \n",
      "3x father to all girls is the most important one. \n",
      "And my fanny pack 😂🤦🏽‍♂️ https://t.co/FI7CjREAyw\n",
      "16 @ShaneHelmsCom @WWE The pleasure was my mine, my friend. \n",
      "Such a fun night and we sent the people home happy (and s… https://t.co/Y9gTnZNFn8\n",
      "17 Unreal. Not only my first ever pro wrestling match, but first time I ever wrestled in front of people\n",
      "(15,000+ in C… https://t.co/HDM3BW1NFy\n",
      "18 @darrenrovell Wow SMH!! Had no idea. Corpus Christi, Tx. Thanks for this tweet, D!!\n",
      "19 Just posted a photo https://t.co/FndfQMvLyl\n",
      "20 @NatbyNature @WWE This is awesome news 👏🏾👏🏾👏🏾 Always a class act, entertained the hell outta the crowd and worked h… https://t.co/WuzCMuyfZd\n",
      "21 Between “Awthum gurl” and “MUDDER!!!” I got nuthin’ else 😂😍\n",
      "#InternationalWomensDay https://t.co/R1ri18pgqS\n",
      "22 Thank you so much and this one means a lot. Especially that it’s connected to all our Wish Kids over the years 🖤🌟… https://t.co/iJ2QBbCiNn\n",
      "23 I support this effort. I’ve lost more than a few along the way. 🖤 will always go out to Zack &amp; his family. \n",
      "Hope yo… https://t.co/g5j8oi4pic\n",
      "24 Just seeing this. \n",
      "Thank you, thank you, thank you. \n",
      "In this crazy evolving landscape - the biggest digital launch… https://t.co/HPyaYKFBd2\n",
      "25 It’s a @ZOAenergy💥 vibe! \n",
      "Thank you 🙏🏾 🙏🏾 guys for making our first week’s launch (online only) phenomenal. Through… https://t.co/gUtj4Cc7pg\n",
      "26 RT @SevenBucksProd: We are honored to share pieces of these women's lives in our #YoungRock. Lia Maivia was the first female promoter &amp; a t…\n",
      "27 @GoldenboyFTW @Kahjahkins @vicious696 @SpawnOnMe @ZOAenergy Golden Boy!! I just watched the VOs you laid down for o… https://t.co/GWr7ePNJwa\n",
      "28 @Kahjahkins @SpawnOnMe @ZOAenergy💥 is actually is better for you and it’s damn sure tasty 😋😆 \n",
      "Don’t worry about it,… https://t.co/mCNXrX9lwE\n",
      "29 Thank you @hcacritics for this #TrailblazerAward 🙏🏾\n",
      "\n",
      "Not sure I deserve this but I will say making people feel good… https://t.co/QJ5YJV6Z0q\n",
      "30 Love it. Enjoy!! Mine have already been and will calling my name in 45min.... they have zero chance of survival.… https://t.co/yyuFANd1aJ\n",
      "31 Can’t wait I’ll be watching!! @JanBlachowicz @stylebender \n",
      "Champ vs Champ \n",
      "Jan is a world shocker. Israel is just a… https://t.co/bbfhcUV4bT\n",
      "32 You’ve always had great taste my brother 😉👊🏾 Appreciate you and enjoy weekend!! Sip your ZO.. now let’s GO!… https://t.co/5g7bS5o1fV\n",
      "33 RT @inkyjohnson: Perspective drives Performance:\n",
      "\n",
      "A word shared a while back by my brother @TheRock that still holds true today.  FINISH ST…\n",
      "34 RT @ProjectRock: A shoe for the hardest worker in EVERY room.\n",
      "Click the link to upgrade your shoe collection with the new BSR (#BloodSweatR…\n",
      "35 Thank you Heather aka Twitter Homie 👊🏾😊\n",
      "Really appreciate the kind words. \n",
      "#HCAFilmAwards https://t.co/C0lP8JAMXP\n",
      "36 RT @ShowbizSimon: ONE DAY TO GO! Don't forget to tune into the 4th Annual HCA Film Awards ceremony tomorrow (Fri) at 5pm PT/8pm ET. Both Tr…\n",
      "37 Thank you, Staci! 🙏🏾 \n",
      "@HCAcritics https://t.co/2tHsUMSI1y\n",
      "38 Oh boy 🤦🏽‍♂️ true story\n",
      "(I was actually suspended twice for swinging on kids). Not good but I had some issues I nee… https://t.co/znsOfEHKgX\n",
      "39 Cool back story here - this whole thing started years ago after @hhgarcia41 saw a simple yet powerful illustration… https://t.co/EZhZCuR6L0\n",
      "40 Great job!\n",
      "👏🏾👏🏾👏🏾 there’s only one way to sing #yourewelcome.... with your ❤️ OUT!!\n",
      "It’s my forever go to karaoke s… https://t.co/sJluQ5WaSB\n",
      "41 Appreciate the kind words brother. Very happy for you and proud. Grab that brass ring and go for it all. You know w… https://t.co/VvgZQHE041\n",
      "42 @The305MVP @botchweiser @97Abdulmalik @fightbobby @TrueKofi @WWEUniverse @btsportwwe @SevenBucksProd @SevenBucksDS… https://t.co/ikcsIv43KN\n",
      "43 Just posted a photo https://t.co/oEthA5SoBd\n",
      "44 @shanemcDonnell3 @StaceyMFLeilua Awesome man. Great pic and thanks for sharing! We’re very proud (and grateful) of… https://t.co/YKvpmvgHFH\n",
      "45 RT @ronnychieng: I’m joining the great cast of characters in @TheRock ‘s new sitcom #YoungRock  as Greg, a rival wrestling promoter who’s h…\n",
      "46 RT @ZOAenergy: Looking for ZOA Zero? Head over to @GNCLiveWell to start enjoying your ZO💥 🌱 https://t.co/mFzQ542WMK\n",
      "47 I’ll go ahead the address the elephant in the room.... what the hell is happening to my hair!!??! I’m in a suit so… https://t.co/eTX0AgC102\n",
      "48 Mahalo brother, gratitude I can inspire you into MMA. Keep kicking ass! \n",
      "#hardestworkersintheroom\n",
      "#YoungRock https://t.co/FYfrG5xVG0\n",
      "49 RT @FScopers: #YoungRock is such a nice refreshing show. Really digging it so far. Thanks for giving us some cool entertainment @TheRock !\n",
      "50 Heyyyyy you got the Soulman to smile! 😊👏🏾👏🏾 He must’ve had a GREAT chat with you! Thanks for posting this. Always g… https://t.co/5neS6DwBHn\n"
     ]
    }
   ],
   "source": [
    "other_user = 'therock'\n",
    "for i, status in enumerate(tweepy.Cursor(api.user_timeline, screen_name=other_user).items(50)):\n",
    "    print(i+1, status.text)"
   ]
  },
  {
   "cell_type": "code",
   "execution_count": 21,
   "id": "supposed-jewel",
   "metadata": {},
   "outputs": [],
   "source": [
    "user_therock = api.get_user(other_user)"
   ]
  },
  {
   "cell_type": "code",
   "execution_count": 23,
   "id": "billion-manor",
   "metadata": {
    "scrolled": true
   },
   "outputs": [
    {
     "name": "stdout",
     "output_type": "stream",
     "text": [
      "1 21586418\n",
      "2 114188882\n",
      "3 797998617491476480\n",
      "4 2882917416\n",
      "5 1125467183067230209\n",
      "6 343074081\n",
      "7 821784477076750338\n",
      "8 803694179079458816\n",
      "9 1349149096909668363\n",
      "10 15506669\n",
      "11 20402945\n",
      "12 1285898183688818688\n",
      "13 1221242033530195970\n",
      "14 190408726\n",
      "15 1241098622969634817\n",
      "16 89556802\n",
      "17 281610530\n",
      "18 145745936\n",
      "19 19562228\n",
      "20 25760828\n",
      "21 18812572\n",
      "22 59157393\n",
      "23 30043495\n",
      "24 30354991\n",
      "25 68577152\n",
      "26 18194219\n",
      "27 20029472\n",
      "28 606806109\n",
      "29 1038111553164390400\n",
      "30 224836446\n",
      "31 72610934\n",
      "32 18173624\n",
      "33 19551156\n",
      "34 955829659027099648\n",
      "35 111199728\n",
      "36 21681559\n",
      "37 3908301134\n",
      "38 33261208\n",
      "39 47529622\n",
      "40 939091\n",
      "41 24544452\n",
      "42 612975060\n",
      "43 813286\n",
      "44 1401135751\n",
      "45 23019705\n",
      "46 232595517\n",
      "47 30272162\n",
      "48 1024336429198049280\n",
      "49 11347122\n",
      "50 38349184\n"
     ]
    }
   ],
   "source": [
    "for i, id_ in enumerate(tweepy.Cursor(api.friends_ids, screen_name=other_user).items(50)):\n",
    "    print(i+1, id_)"
   ]
  },
  {
   "cell_type": "markdown",
   "id": "resident-yacht",
   "metadata": {},
   "source": [
    "## Searching by query"
   ]
  },
  {
   "cell_type": "code",
   "execution_count": 30,
   "id": "excellent-kernel",
   "metadata": {
    "scrolled": true
   },
   "outputs": [
    {
     "name": "stdout",
     "output_type": "stream",
     "text": [
      "1 RT @Radarinfo01: Online Courses - Getting Started with React Hooks -&gt; https://t.co/1TXD1T4p86\n",
      "\n",
      "#100DaysOfCode #html5 #NodeJs #Angular #Word… powerupcoding1\n",
      "2 RT @Radarinfo01: Online Courses - Getting Started with React Hooks -&gt; https://t.co/1TXD1T4p86\n",
      "\n",
      "#100DaysOfCode #html5 #NodeJs #Angular #Word… LiquetBot\n",
      "3 RT @Radarinfo01: Online Courses - Getting Started with React Hooks -&gt; https://t.co/1TXD1T4p86\n",
      "\n",
      "#100DaysOfCode #html5 #NodeJs #Angular #Word… friday_Js_bot\n",
      "4 RT @Radarinfo01: Online Courses - Getting Started with React Hooks -&gt; https://t.co/1TXD1T4p86\n",
      "\n",
      "#100DaysOfCode #html5 #NodeJs #Angular #Word… 30xcodes\n",
      "5 RT @Radarinfo01: Online Courses - Getting Started with React Hooks -&gt; https://t.co/1TXD1T4p86\n",
      "\n",
      "#100DaysOfCode #html5 #NodeJs #Angular #Word… RobotProud\n",
      "6 2021年03月14日 18時00分\n",
      "ぽちぽちぽちぽち\n",
      "いい感じに積み上がってるにゃ🐈 \n",
      "\n",
      "#c\n",
      "#python\n",
      "#django\n",
      "#プログラミング\n",
      "#プログラミング初心者\n",
      "#駆け出しエンジニアと繋がりたい yoshina_nuko\n",
      "7 Online Courses - Getting Started with React Hooks -&gt; https://t.co/1TXD1T4p86\n",
      "\n",
      "#100DaysOfCode #html5 #NodeJs… https://t.co/GtKDAP7zxr Radarinfo01\n",
      "8 RT @progbooks1: (Serious Python) Check it out 👉 - https://t.co/v0AnCdaHS1\n",
      "\n",
      "#datascience #Java #ArtificialIntelligence #python #Bigdata #jav… 30xcodes\n",
      "9 RT @progbooks1: (Serious Python) Check it out 👉 - https://t.co/v0AnCdaHS1\n",
      "\n",
      "#datascience #Java #ArtificialIntelligence #python #Bigdata #jav… LiquetBot\n",
      "10 RT @progbooks1: (Serious Python) Check it out 👉 - https://t.co/v0AnCdaHS1\n",
      "\n",
      "#datascience #Java #ArtificialIntelligence #python #Bigdata #jav… chidambara09\n",
      "11 RT @progbooks1: (Serious Python) Check it out 👉 - https://t.co/v0AnCdaHS1\n",
      "\n",
      "#datascience #Java #ArtificialIntelligence #python #Bigdata #jav… corizance\n",
      "12 RT @couponfree01: Udemy Free Discount - The Complete Angular Course: Beginner to Advanced #udemycoupon https://t.co/yhrIqVyajX\n",
      "\n",
      "#webdevelop… AaronCuddeback\n",
      "13 RT @couponfree01: Udemy Free Discount - The Complete Angular Course: Beginner to Advanced #udemycoupon https://t.co/yhrIqVyajX\n",
      "\n",
      "#webdevelop… devvibesbot\n",
      "14 RT @couponfree01: Udemy Free Discount - The Complete Angular Course: Beginner to Advanced #udemycoupon https://t.co/yhrIqVyajX\n",
      "\n",
      "#webdevelop… ShayTweeter\n",
      "15 RT @couponfree01: Udemy Free Discount - The Complete Angular Course: Beginner to Advanced #udemycoupon https://t.co/yhrIqVyajX\n",
      "\n",
      "#webdevelop… Discovertech3\n",
      "16 RT @couponfree01: Udemy Free Discount - The Complete Angular Course: Beginner to Advanced #udemycoupon https://t.co/yhrIqVyajX\n",
      "\n",
      "#webdevelop… morolswediu\n",
      "17 RT @couponfree01: Udemy Free Discount - The Complete Angular Course: Beginner to Advanced #udemycoupon https://t.co/yhrIqVyajX\n",
      "\n",
      "#webdevelop… php_synopsis\n",
      "18 RT @couponfree01: Udemy Free Discount - The Complete Angular Course: Beginner to Advanced #udemycoupon https://t.co/yhrIqVyajX\n",
      "\n",
      "#webdevelop… cottila\n",
      "19 RT @couponfree01: Udemy Free Discount - The Complete Angular Course: Beginner to Advanced #udemycoupon https://t.co/yhrIqVyajX\n",
      "\n",
      "#webdevelop… xaelbot\n",
      "20 RT @couponfree01: Udemy Free Discount - The Complete Angular Course: Beginner to Advanced #udemycoupon https://t.co/yhrIqVyajX\n",
      "\n",
      "#webdevelop… powerupcoding1\n"
     ]
    }
   ],
   "source": [
    "# query = '#django'\n",
    "# to remove unnecessary things\n",
    "\n",
    "query = '#django -jQuery'\n",
    "for i, status in enumerate(tweepy.Cursor(api.search, q=query).items(20)):\n",
    "    print(i+1, status.text, status.user.screen_name)"
   ]
  },
  {
   "cell_type": "code",
   "execution_count": 35,
   "id": "leading-portal",
   "metadata": {},
   "outputs": [],
   "source": [
    "query_username = 'Django'\n",
    "search_results = set()  # to avoid repetetion\n",
    "for i, user in enumerate(tweepy.Cursor(api.search_users, q=query_username).items(50)):\n",
    "    search_results.add(user.screen_name)"
   ]
  },
  {
   "cell_type": "code",
   "execution_count": 36,
   "id": "based-closure",
   "metadata": {
    "scrolled": true
   },
   "outputs": [
    {
     "data": {
      "text/plain": [
       "['ForDeeCulture',\n",
       " 'djangostewart',\n",
       " 'DjangoTricks',\n",
       " 'WonderBoySolek',\n",
       " 'CptDjangojr',\n",
       " 'djangogirlsshef',\n",
       " 'Django_gocrazy',\n",
       " 'django_paris',\n",
       " 'thedjangos',\n",
       " 'DjangoGirlsBCN',\n",
       " 'DjangoGirlsPyUK',\n",
       " 'tangowithdjango',\n",
       " 'DjangoCoffee',\n",
       " 'DjangoConAU',\n",
       " 'djangogirls',\n",
       " 'DjangoDSM',\n",
       " 'djangolinks',\n",
       " 'DjangoTarantino',\n",
       " 'DjangoGirlsSD',\n",
       " 'djangolondon',\n",
       " 'djangogirlsblin',\n",
       " 'DJANGO_UU',\n",
       " 'VanDjangoMusic',\n",
       " 'DjangoConEurope',\n",
       " 'ChatDjango',\n",
       " 'djangoproject',\n",
       " 'DjangoWexler',\n",
       " 'SleepyDjango',\n",
       " 'django',\n",
       " 'DjangoGirlsPDX']"
      ]
     },
     "execution_count": 36,
     "metadata": {},
     "output_type": "execute_result"
    }
   ],
   "source": [
    "list(search_results)"
   ]
  },
  {
   "cell_type": "markdown",
   "id": "alpine-heaven",
   "metadata": {},
   "source": [
    "## Pagination"
   ]
  },
  {
   "cell_type": "code",
   "execution_count": 38,
   "id": "generous-yellow",
   "metadata": {
    "scrolled": true
   },
   "outputs": [
    {
     "name": "stdout",
     "output_type": "stream",
     "text": [
      "page 1\n",
      "0 TheRock\n",
      "1 941therock\n",
      "2 973therock\n",
      "3 therock_spc\n",
      "4 am1260therock\n",
      "5 therockbest9\n",
      "6 therock_wall\n",
      "7 Therock926\n",
      "8 SaucyFaust\n",
      "9 933THEROCK\n",
      "10 therock2209\n",
      "11 tarak_santhosh9\n",
      "12 mattdavella\n",
      "13 HeIsCooking\n",
      "14 695THEROCK_COM\n",
      "15 theROCKDINERZA\n",
      "16 JimmyTraina\n",
      "17 therock_lover98\n",
      "18 THEROCKOLPLAY\n",
      "19 therock72pk\n",
      "page 2\n",
      "0 TheRock\n",
      "1 941therock\n",
      "2 973therock\n",
      "3 therock_spc\n",
      "4 am1260therock\n",
      "5 therockbest9\n",
      "6 therock_wall\n",
      "7 Therock926\n",
      "8 SaucyFaust\n",
      "9 933THEROCK\n",
      "10 therock2209\n",
      "11 tarak_santhosh9\n",
      "12 mattdavella\n",
      "13 HeIsCooking\n",
      "14 695THEROCK_COM\n",
      "15 theROCKDINERZA\n",
      "16 JimmyTraina\n",
      "17 therock_lover98\n",
      "18 THEROCKOLPLAY\n",
      "19 therock72pk\n",
      "page 3\n",
      "0 nbctitangames\n",
      "1 AJKirsch\n",
      "2 GRT_TheRock\n",
      "3 CarnelianDQ\n",
      "4 hardik_therock\n",
      "5 SevenBucksProd\n",
      "6 therock14\n",
      "7 athleticonatl\n",
      "8 spicer2therock\n",
      "9 Gaurav_TheRock\n",
      "10 JoshRimerPR\n",
      "11 therock1982\n",
      "12 MikeDOnAir\n",
      "13 therock0209\n",
      "14 ProjectRock\n",
      "15 _omargHonim\n",
      "16 EthanLind\n",
      "17 JoeVFox12\n",
      "18 therock676\n",
      "19 therock07\n",
      "page 4\n",
      "0 therock454\n",
      "1 pera_therock\n",
      "2 therock9002000\n",
      "3 therock0884\n",
      "4 _Eldi__\n",
      "5 cissepapeabou\n",
      "6 therock108\n",
      "7 therock785\n",
      "8 THEROCK37756708\n",
      "9 TheRock112915\n",
      "10 therock2086\n",
      "11 therockmorin\n",
      "12 kevin_therock\n",
      "13 1therock\n",
      "14 therock1424\n",
      "15 therock6000\n",
      "16 Therockstarstat\n",
      "17 kidd_therock\n",
      "18 therock_dp\n",
      "19 SEENUTHEROCK\n"
     ]
    }
   ],
   "source": [
    "query_username = 'therock'\n",
    "\n",
    "def process_page(page_results):\n",
    "    for i, user in enumerate(page_results):\n",
    "        print(i, user.screen_name)\n",
    "\n",
    "for i, page in enumerate(tweepy.Cursor(api.search_users, q=query_username, per_page=10).pages(3)):\n",
    "    print('page', i+1)\n",
    "    process_page(page)"
   ]
  },
  {
   "cell_type": "markdown",
   "id": "accessory-microphone",
   "metadata": {},
   "source": [
    "## Custom rate limit"
   ]
  },
  {
   "cell_type": "code",
   "execution_count": 43,
   "id": "latin-journalism",
   "metadata": {},
   "outputs": [
    {
     "ename": "RuntimeError",
     "evalue": "generator raised StopIteration",
     "output_type": "error",
     "traceback": [
      "\u001b[0;31m---------------------------------------------------------------------------\u001b[0m",
      "\u001b[0;31mStopIteration\u001b[0m                             Traceback (most recent call last)",
      "\u001b[0;32m<ipython-input-43-48a9fbaa1b8a>\u001b[0m in \u001b[0;36mlimit_handled\u001b[0;34m(cursor)\u001b[0m\n\u001b[1;32m      5\u001b[0m         \u001b[0;32mtry\u001b[0m\u001b[0;34m:\u001b[0m\u001b[0;34m\u001b[0m\u001b[0;34m\u001b[0m\u001b[0m\n\u001b[0;32m----> 6\u001b[0;31m             \u001b[0;32myield\u001b[0m \u001b[0mnext\u001b[0m\u001b[0;34m(\u001b[0m\u001b[0mcursor\u001b[0m\u001b[0;34m)\u001b[0m\u001b[0;34m\u001b[0m\u001b[0;34m\u001b[0m\u001b[0m\n\u001b[0m\u001b[1;32m      7\u001b[0m         \u001b[0;32mexcept\u001b[0m \u001b[0mtweepy\u001b[0m\u001b[0;34m.\u001b[0m\u001b[0mRateLimitError\u001b[0m\u001b[0;34m:\u001b[0m\u001b[0;34m\u001b[0m\u001b[0;34m\u001b[0m\u001b[0m\n",
      "\u001b[0;32m~/.virtualenvs/Day_14-Twitter_API_with_Tweepy-udHtmzGH/lib/python3.8/site-packages/tweepy/cursor.py\u001b[0m in \u001b[0;36m__next__\u001b[0;34m(self)\u001b[0m\n\u001b[1;32m     50\u001b[0m     \u001b[0;32mdef\u001b[0m \u001b[0m__next__\u001b[0m\u001b[0;34m(\u001b[0m\u001b[0mself\u001b[0m\u001b[0;34m)\u001b[0m\u001b[0;34m:\u001b[0m\u001b[0;34m\u001b[0m\u001b[0;34m\u001b[0m\u001b[0m\n\u001b[0;32m---> 51\u001b[0;31m         \u001b[0;32mreturn\u001b[0m \u001b[0mself\u001b[0m\u001b[0;34m.\u001b[0m\u001b[0mnext\u001b[0m\u001b[0;34m(\u001b[0m\u001b[0;34m)\u001b[0m\u001b[0;34m\u001b[0m\u001b[0;34m\u001b[0m\u001b[0m\n\u001b[0m\u001b[1;32m     52\u001b[0m \u001b[0;34m\u001b[0m\u001b[0m\n",
      "\u001b[0;32m~/.virtualenvs/Day_14-Twitter_API_with_Tweepy-udHtmzGH/lib/python3.8/site-packages/tweepy/cursor.py\u001b[0m in \u001b[0;36mnext\u001b[0;34m(self)\u001b[0m\n\u001b[1;32m    242\u001b[0m             \u001b[0;31m# Reached end of current page, get the next page...\u001b[0m\u001b[0;34m\u001b[0m\u001b[0;34m\u001b[0m\u001b[0;34m\u001b[0m\u001b[0m\n\u001b[0;32m--> 243\u001b[0;31m             \u001b[0mself\u001b[0m\u001b[0;34m.\u001b[0m\u001b[0mcurrent_page\u001b[0m \u001b[0;34m=\u001b[0m \u001b[0mself\u001b[0m\u001b[0;34m.\u001b[0m\u001b[0mpage_iterator\u001b[0m\u001b[0;34m.\u001b[0m\u001b[0mnext\u001b[0m\u001b[0;34m(\u001b[0m\u001b[0;34m)\u001b[0m\u001b[0;34m\u001b[0m\u001b[0;34m\u001b[0m\u001b[0m\n\u001b[0m\u001b[1;32m    244\u001b[0m             \u001b[0;32mwhile\u001b[0m \u001b[0mlen\u001b[0m\u001b[0;34m(\u001b[0m\u001b[0mself\u001b[0m\u001b[0;34m.\u001b[0m\u001b[0mcurrent_page\u001b[0m\u001b[0;34m)\u001b[0m \u001b[0;34m==\u001b[0m \u001b[0;36m0\u001b[0m\u001b[0;34m:\u001b[0m\u001b[0;34m\u001b[0m\u001b[0;34m\u001b[0m\u001b[0m\n",
      "\u001b[0;32m~/.virtualenvs/Day_14-Twitter_API_with_Tweepy-udHtmzGH/lib/python3.8/site-packages/tweepy/cursor.py\u001b[0m in \u001b[0;36mnext\u001b[0;34m(self)\u001b[0m\n\u001b[1;32m     79\u001b[0m         \u001b[0;32mif\u001b[0m \u001b[0mlen\u001b[0m\u001b[0;34m(\u001b[0m\u001b[0mdata\u001b[0m\u001b[0;34m)\u001b[0m \u001b[0;34m==\u001b[0m \u001b[0;36m0\u001b[0m\u001b[0;34m:\u001b[0m\u001b[0;34m\u001b[0m\u001b[0;34m\u001b[0m\u001b[0m\n\u001b[0;32m---> 80\u001b[0;31m             \u001b[0;32mraise\u001b[0m \u001b[0mStopIteration\u001b[0m\u001b[0;34m\u001b[0m\u001b[0;34m\u001b[0m\u001b[0m\n\u001b[0m\u001b[1;32m     81\u001b[0m         \u001b[0mself\u001b[0m\u001b[0;34m.\u001b[0m\u001b[0mnum_tweets\u001b[0m \u001b[0;34m+=\u001b[0m \u001b[0;36m1\u001b[0m\u001b[0;34m\u001b[0m\u001b[0;34m\u001b[0m\u001b[0m\n",
      "\u001b[0;31mStopIteration\u001b[0m: ",
      "\nThe above exception was the direct cause of the following exception:\n",
      "\u001b[0;31mRuntimeError\u001b[0m                              Traceback (most recent call last)",
      "\u001b[0;32m<ipython-input-43-48a9fbaa1b8a>\u001b[0m in \u001b[0;36m<module>\u001b[0;34m\u001b[0m\n\u001b[1;32m      8\u001b[0m             \u001b[0mtime\u001b[0m\u001b[0;34m.\u001b[0m\u001b[0msleep\u001b[0m\u001b[0;34m(\u001b[0m\u001b[0;36m15\u001b[0m \u001b[0;34m*\u001b[0m \u001b[0;36m60\u001b[0m\u001b[0;34m)\u001b[0m\u001b[0;34m\u001b[0m\u001b[0;34m\u001b[0m\u001b[0m\n\u001b[1;32m      9\u001b[0m \u001b[0;34m\u001b[0m\u001b[0m\n\u001b[0;32m---> 10\u001b[0;31m \u001b[0;32mfor\u001b[0m \u001b[0mfollower\u001b[0m \u001b[0;32min\u001b[0m \u001b[0mlimit_handled\u001b[0m\u001b[0;34m(\u001b[0m\u001b[0mtweepy\u001b[0m\u001b[0;34m.\u001b[0m\u001b[0mCursor\u001b[0m\u001b[0;34m(\u001b[0m\u001b[0mapi\u001b[0m\u001b[0;34m.\u001b[0m\u001b[0mfollowers\u001b[0m\u001b[0;34m)\u001b[0m\u001b[0;34m.\u001b[0m\u001b[0mitems\u001b[0m\u001b[0;34m(\u001b[0m\u001b[0;34m)\u001b[0m\u001b[0;34m)\u001b[0m\u001b[0;34m:\u001b[0m\u001b[0;34m\u001b[0m\u001b[0;34m\u001b[0m\u001b[0m\n\u001b[0m\u001b[1;32m     11\u001b[0m     \u001b[0;32mif\u001b[0m \u001b[0mfollower\u001b[0m\u001b[0;34m.\u001b[0m\u001b[0mfriends_count\u001b[0m \u001b[0;34m<\u001b[0m \u001b[0;36m300\u001b[0m\u001b[0;34m:\u001b[0m\u001b[0;34m\u001b[0m\u001b[0;34m\u001b[0m\u001b[0m\n\u001b[1;32m     12\u001b[0m         \u001b[0mprint\u001b[0m\u001b[0;34m(\u001b[0m\u001b[0mfollower\u001b[0m\u001b[0;34m.\u001b[0m\u001b[0mscreen_name\u001b[0m\u001b[0;34m)\u001b[0m\u001b[0;34m\u001b[0m\u001b[0;34m\u001b[0m\u001b[0m\n",
      "\u001b[0;31mRuntimeError\u001b[0m: generator raised StopIteration"
     ]
    }
   ],
   "source": [
    "import time\n",
    "\n",
    "def limit_handled(cursor):\n",
    "    while True:\n",
    "        try:\n",
    "            yield next(cursor)\n",
    "        except tweepy.RateLimitError:\n",
    "            time.sleep(15 * 60)\n",
    "\n",
    "for follower in limit_handled(tweepy.Cursor(api.followers).items()):\n",
    "    if follower.friends_count < 300:\n",
    "        print(follower.screen_name)"
   ]
  },
  {
   "cell_type": "code",
   "execution_count": null,
   "id": "tribal-purse",
   "metadata": {},
   "outputs": [],
   "source": []
  }
 ],
 "metadata": {
  "kernelspec": {
   "display_name": "Python 3",
   "language": "python",
   "name": "python3"
  },
  "language_info": {
   "codemirror_mode": {
    "name": "ipython",
    "version": 3
   },
   "file_extension": ".py",
   "mimetype": "text/x-python",
   "name": "python",
   "nbconvert_exporter": "python",
   "pygments_lexer": "ipython3",
   "version": "3.8.5"
  }
 },
 "nbformat": 4,
 "nbformat_minor": 5
}
