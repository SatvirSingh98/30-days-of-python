{
 "cells": [
  {
   "cell_type": "code",
   "execution_count": 1,
   "id": "developmental-privacy",
   "metadata": {},
   "outputs": [],
   "source": [
    "import tweepy\n",
    "import webbrowser\n",
    "from time import sleep\n",
    "from decouple import config\n",
    "import pandas as pd"
   ]
  },
  {
   "cell_type": "code",
   "execution_count": 2,
   "id": "executed-directive",
   "metadata": {},
   "outputs": [],
   "source": [
    "consumer_key = config('API_KEY')\n",
    "consumer_secret = config('API_SECRET_KEY')"
   ]
  },
  {
   "cell_type": "code",
   "execution_count": 3,
   "id": "broken-notion",
   "metadata": {},
   "outputs": [],
   "source": [
    "callback_uri = 'oob'"
   ]
  },
  {
   "cell_type": "code",
   "execution_count": 4,
   "id": "surprising-header",
   "metadata": {},
   "outputs": [],
   "source": [
    "auth = tweepy.OAuthHandler(consumer_key, consumer_secret, callback_uri)"
   ]
  },
  {
   "cell_type": "code",
   "execution_count": 5,
   "id": "adverse-friend",
   "metadata": {},
   "outputs": [],
   "source": [
    "try:\n",
    "    redirect_url = auth.get_authorization_url()\n",
    "except tweepy.TweepError:\n",
    "    print('Error! Failed to get request token.')"
   ]
  },
  {
   "cell_type": "code",
   "execution_count": 6,
   "id": "environmental-drove",
   "metadata": {},
   "outputs": [
    {
     "data": {
      "text/plain": [
       "True"
      ]
     },
     "execution_count": 6,
     "metadata": {},
     "output_type": "execute_result"
    }
   ],
   "source": [
    "webbrowser.open(redirect_url)"
   ]
  },
  {
   "cell_type": "code",
   "execution_count": 7,
   "id": "linear-devil",
   "metadata": {},
   "outputs": [
    {
     "name": "stdout",
     "output_type": "stream",
     "text": [
      "Enter the pin value: 7948436\n"
     ]
    }
   ],
   "source": [
    "user_pin_input = int(input(\"Enter the pin value: \"))"
   ]
  },
  {
   "cell_type": "code",
   "execution_count": 8,
   "id": "overhead-solomon",
   "metadata": {},
   "outputs": [],
   "source": [
    "# it will get access keys for that particular user\n",
    "try:\n",
    "    auth.get_access_token(str(user_pin_input))\n",
    "except tweepy.TweepError:\n",
    "    print('Error! Failed to get access token.')"
   ]
  },
  {
   "cell_type": "code",
   "execution_count": 9,
   "id": "universal-vietnam",
   "metadata": {},
   "outputs": [],
   "source": [
    "api = tweepy.API(auth)"
   ]
  },
  {
   "cell_type": "code",
   "execution_count": 10,
   "id": "wooden-lottery",
   "metadata": {},
   "outputs": [
    {
     "data": {
      "text/plain": [
       "'SatvirS54956491'"
      ]
     },
     "execution_count": 10,
     "metadata": {},
     "output_type": "execute_result"
    }
   ],
   "source": [
    "me = api.me()\n",
    "me.screen_name"
   ]
  },
  {
   "cell_type": "code",
   "execution_count": 11,
   "id": "periodic-buyer",
   "metadata": {},
   "outputs": [
    {
     "name": "stdout",
     "output_type": "stream",
     "text": [
      "350331 126\n"
     ]
    }
   ],
   "source": [
    "user = api.get_user('code')\n",
    "print(user.followers_count, user.friends_count)"
   ]
  },
  {
   "cell_type": "code",
   "execution_count": 16,
   "id": "diagnostic-sherman",
   "metadata": {
    "scrolled": false
   },
   "outputs": [
    {
     "name": "stdout",
     "output_type": "stream",
     "text": [
      "TheAmandaGorman\n",
      "github\n"
     ]
    }
   ],
   "source": [
    "# to find some of the user's friends and to follow them\n",
    "user_friends = user.friends()\n",
    "# len(user_friends)\n",
    "my_new_friends = []\n",
    "\n",
    "for friend in user_friends:\n",
    "    if friend.followers_count > 100000 and friend.friends_count < 1000:\n",
    "        print(friend.screen_name)\n",
    "        my_new_friends.append(friend.screen_name)\n",
    "        api.create_friendship(friend.screen_name)"
   ]
  },
  {
   "cell_type": "code",
   "execution_count": 17,
   "id": "elegant-specialist",
   "metadata": {},
   "outputs": [
    {
     "data": {
      "text/plain": [
       "['TheAmandaGorman', 'github']"
      ]
     },
     "execution_count": 17,
     "metadata": {},
     "output_type": "execute_result"
    }
   ],
   "source": [
    "my_new_friends"
   ]
  },
  {
   "cell_type": "code",
   "execution_count": 18,
   "id": "compressed-selection",
   "metadata": {},
   "outputs": [],
   "source": [
    "to_remove = my_new_friends[:-1]\n",
    "for friend in to_remove:\n",
    "    api.destroy_friendship(friend)"
   ]
  },
  {
   "cell_type": "code",
   "execution_count": null,
   "id": "contemporary-beach",
   "metadata": {},
   "outputs": [],
   "source": []
  }
 ],
 "metadata": {
  "kernelspec": {
   "display_name": "Python 3",
   "language": "python",
   "name": "python3"
  },
  "language_info": {
   "codemirror_mode": {
    "name": "ipython",
    "version": 3
   },
   "file_extension": ".py",
   "mimetype": "text/x-python",
   "name": "python",
   "nbconvert_exporter": "python",
   "pygments_lexer": "ipython3",
   "version": "3.8.5"
  }
 },
 "nbformat": 4,
 "nbformat_minor": 5
}
