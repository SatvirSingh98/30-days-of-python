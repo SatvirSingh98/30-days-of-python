{
 "cells": [
  {
   "cell_type": "code",
   "execution_count": 1,
   "id": "built-landing",
   "metadata": {},
   "outputs": [],
   "source": [
    "import pandas as pd\n",
    "import requests\n",
    "from time import sleep\n",
    "from requests_html import HTML"
   ]
  },
  {
   "cell_type": "code",
   "execution_count": 2,
   "id": "north-bacon",
   "metadata": {},
   "outputs": [
    {
     "data": {
      "text/plain": [
       "'https://stackoverflow.com/questions/tagged/python?tab=Votes'"
      ]
     },
     "execution_count": 2,
     "metadata": {},
     "output_type": "execute_result"
    }
   ],
   "source": [
    "base_url = 'https://stackoverflow.com/questions/tagged/'\n",
    "tag = 'python'\n",
    "query_filter = 'Votes'\n",
    "url = f\"{base_url}{tag}?tab={query_filter}\"\n",
    "url"
   ]
  },
  {
   "cell_type": "code",
   "execution_count": 3,
   "id": "entire-ocean",
   "metadata": {},
   "outputs": [],
   "source": [
    "r = requests.get(url)\n",
    "html_txt = r.text"
   ]
  },
  {
   "cell_type": "code",
   "execution_count": 4,
   "id": "rising-bicycle",
   "metadata": {},
   "outputs": [],
   "source": [
    "html = HTML(html=html_txt)"
   ]
  },
  {
   "cell_type": "code",
   "execution_count": 5,
   "id": "fatal-juvenile",
   "metadata": {
    "scrolled": true
   },
   "outputs": [
    {
     "name": "stdout",
     "output_type": "stream",
     "text": [
      "[<Element 'div' class=('question-summary',) id='question-summary-231767'>, <Element 'div' class=('question-summary',) id='question-summary-419163'>, <Element 'div' class=('question-summary',) id='question-summary-394809'>, <Element 'div' class=('question-summary',) id='question-summary-100003'>, <Element 'div' class=('question-summary',) id='question-summary-82831'>, <Element 'div' class=('question-summary',) id='question-summary-38987'>, <Element 'div' class=('question-summary',) id='question-summary-89228'>, <Element 'div' class=('question-summary',) id='question-summary-273192'>, <Element 'div' class=('question-summary',) id='question-summary-522563'>, <Element 'div' class=('question-summary',) id='question-summary-952914'>, <Element 'div' class=('question-summary',) id='question-summary-136097'>, <Element 'div' class=('question-summary',) id='question-summary-509211'>, <Element 'div' class=('question-summary',) id='question-summary-3437059'>, <Element 'div' class=('question-summary',) id='question-summary-176918'>, <Element 'div' class=('question-summary',) id='question-summary-3207219'>, <Element 'div' class=('question-summary',) id='question-summary-3294889'>, <Element 'div' class=('question-summary',) id='question-summary-613183'>, <Element 'div' class=('question-summary',) id='question-summary-423379'>, <Element 'div' class=('question-summary',) id='question-summary-53513'>, <Element 'div' class=('question-summary',) id='question-summary-415511'>, <Element 'div' class=('question-summary',) id='question-summary-252703'>, <Element 'div' class=('question-summary',) id='question-summary-6470428'>, <Element 'div' class=('question-summary',) id='question-summary-1436703'>, <Element 'div' class=('question-summary',) id='question-summary-1024847'>, <Element 'div' class=('question-summary',) id='question-summary-510348'>, <Element 'div' class=('question-summary',) id='question-summary-1720421'>, <Element 'div' class=('question-summary',) id='question-summary-123198'>, <Element 'div' class=('question-summary',) id='question-summary-739654'>, <Element 'div' class=('question-summary',) id='question-summary-986006'>, <Element 'div' class=('question-summary',) id='question-summary-2612802'>, <Element 'div' class=('question-summary',) id='question-summary-1132941'>, <Element 'div' class=('question-summary',) id='question-summary-606191'>, <Element 'div' class=('question-summary',) id='question-summary-576169'>, <Element 'div' class=('question-summary',) id='question-summary-1602934'>, <Element 'div' class=('question-summary',) id='question-summary-448271'>, <Element 'div' class=('question-summary',) id='question-summary-16476924'>, <Element 'div' class=('question-summary',) id='question-summary-36901'>, <Element 'div' class=('question-summary',) id='question-summary-4750806'>, <Element 'div' class=('question-summary',) id='question-summary-312443'>, <Element 'div' class=('question-summary',) id='question-summary-2052390'>, <Element 'div' class=('question-summary',) id='question-summary-6996603'>, <Element 'div' class=('question-summary',) id='question-summary-5137497'>, <Element 'div' class=('question-summary',) id='question-summary-17071871'>, <Element 'div' class=('question-summary',) id='question-summary-332289'>, <Element 'div' class=('question-summary',) id='question-summary-4906977'>, <Element 'div' class=('question-summary',) id='question-summary-287871'>, <Element 'div' class=('question-summary',) id='question-summary-379906'>, <Element 'div' class=('question-summary',) id='question-summary-466345'>, <Element 'div' class=('question-summary',) id='question-summary-30081275'>, <Element 'div' class=('question-summary',) id='question-summary-930397'>]\n"
     ]
    }
   ],
   "source": [
    "question_summaries = html.find('.question-summary')\n",
    "print(question_summaries)"
   ]
  },
  {
   "cell_type": "code",
   "execution_count": 6,
   "id": "crucial-blowing",
   "metadata": {},
   "outputs": [
    {
     "name": "stdout",
     "output_type": "stream",
     "text": [
      "11024\n",
      "votes\n",
      "38answers\n",
      "2.5m views\n",
      "What does the “yield” keyword do?\n",
      "What is the use of the yield keyword in Python, and what does it do? For example, I'm trying to understand this code1: def _get_child_candidates(self, distance, min_dist, max_dist): if self....\n",
      "python iterator generator yield coroutine\n",
      "asked Oct 23 '08 at 22:21\n",
      "Alex. S.\n",
      "125k1515 gold badges5050 silver badges6161 bronze badges\n"
     ]
    }
   ],
   "source": [
    "print(question_summaries[0].text)"
   ]
  },
  {
   "cell_type": "code",
   "execution_count": 7,
   "id": "continuing-thursday",
   "metadata": {},
   "outputs": [],
   "source": [
    "columns = ['votes', 'vote_title', 'num_answers', 'views', 'question', 'short_desc', 'tags', 'date', 'user', 'user_details']"
   ]
  },
  {
   "cell_type": "code",
   "execution_count": 8,
   "id": "junior-church",
   "metadata": {},
   "outputs": [],
   "source": [
    "# this_row = list(question_summaries[0].text.split('\\n'))\n",
    "# print(this_row)\n",
    "# row_data = dict(zip(columns, this_row))\n",
    "# row_data"
   ]
  },
  {
   "cell_type": "code",
   "execution_count": 9,
   "id": "waiting-symposium",
   "metadata": {},
   "outputs": [
    {
     "data": {
      "text/plain": [
       "'What does the “yield” keyword do?'"
      ]
     },
     "execution_count": 9,
     "metadata": {},
     "output_type": "execute_result"
    }
   ],
   "source": [
    "key_names = ['question', 'votes']\n",
    "classes_needed = ['.question-hyperlink', '.vote-count-post']\n",
    "this_question_el = question_summaries[0]\n",
    "this_question_el.find('.question-hyperlink', first=True).text"
   ]
  },
  {
   "cell_type": "code",
   "execution_count": 10,
   "id": "alone-twist",
   "metadata": {},
   "outputs": [
    {
     "data": {
      "text/plain": [
       "{'question': 'What does the “yield” keyword do?', 'votes': '11024'}"
      ]
     },
     "execution_count": 10,
     "metadata": {},
     "output_type": "execute_result"
    }
   ],
   "source": [
    "data = []\n",
    "\n",
    "for q_el in question_summaries:\n",
    "    questio_data = {}\n",
    "    for i, _class in enumerate(classes_needed):\n",
    "        sub_el = q_el.find(_class, first=True)\n",
    "        keyname = key_names[i]\n",
    "        questio_data[keyname] = sub_el.text\n",
    "    data.append(questio_data)\n",
    "data[0]"
   ]
  },
  {
   "cell_type": "code",
   "execution_count": 11,
   "id": "municipal-blogger",
   "metadata": {},
   "outputs": [],
   "source": [
    "def parse_tagged_page(html):\n",
    "    question_summaries = html.find('.question-summary')\n",
    "    key_names = ['question', 'votes', 'tags']\n",
    "    classes_needed = ['.question-hyperlink', '.vote-count-post', '.tags']\n",
    "    data = []\n",
    "\n",
    "    for q_el in question_summaries:\n",
    "        questio_data = {}\n",
    "        for i, _class in enumerate(classes_needed):\n",
    "            sub_el = q_el.find(_class, first=True)\n",
    "            keyname = key_names[i]\n",
    "            questio_data[keyname] = sub_el.text\n",
    "        data.append(questio_data)\n",
    "    return data"
   ]
  },
  {
   "cell_type": "code",
   "execution_count": 12,
   "id": "mobile-arkansas",
   "metadata": {},
   "outputs": [],
   "source": [
    "def extract_page_from_url(url):\n",
    "    r = requests.get(url)\n",
    "    if r.status_code not in range(200, 300):\n",
    "        return []\n",
    "    html_txt = r.text\n",
    "    html = HTML(html=html_txt)\n",
    "    data = parse_tagged_page(html)\n",
    "    return data"
   ]
  },
  {
   "cell_type": "code",
   "execution_count": 13,
   "id": "planned-norwegian",
   "metadata": {
    "scrolled": true
   },
   "outputs": [],
   "source": [
    "def scrape_tag(tag='python', query_filter='Votes', max_pages=10, pagesize=15):\n",
    "    base_url = 'https://stackoverflow.com/questions/tagged/'\n",
    "    datas = []\n",
    "    for page in range(max_pages):\n",
    "        num_page = page + 1\n",
    "        url = f\"{base_url}{tag}?tab={query_filter}&page={num_page}&pagesize={pagesize}\"\n",
    "        datas += extract_page_from_url(url)\n",
    "        sleep(1)\n",
    "    return datas"
   ]
  },
  {
   "cell_type": "code",
   "execution_count": 14,
   "id": "turned-specialist",
   "metadata": {
    "scrolled": true
   },
   "outputs": [],
   "source": [
    "data = scrape_tag()\n",
    "df = pd.DataFrame(data)"
   ]
  },
  {
   "cell_type": "code",
   "execution_count": 15,
   "id": "eleven-visitor",
   "metadata": {},
   "outputs": [
    {
     "data": {
      "text/html": [
       "<div>\n",
       "<style scoped>\n",
       "    .dataframe tbody tr th:only-of-type {\n",
       "        vertical-align: middle;\n",
       "    }\n",
       "\n",
       "    .dataframe tbody tr th {\n",
       "        vertical-align: top;\n",
       "    }\n",
       "\n",
       "    .dataframe thead th {\n",
       "        text-align: right;\n",
       "    }\n",
       "</style>\n",
       "<table border=\"1\" class=\"dataframe\">\n",
       "  <thead>\n",
       "    <tr style=\"text-align: right;\">\n",
       "      <th></th>\n",
       "      <th>question</th>\n",
       "      <th>votes</th>\n",
       "      <th>tags</th>\n",
       "    </tr>\n",
       "  </thead>\n",
       "  <tbody>\n",
       "    <tr>\n",
       "      <th>0</th>\n",
       "      <td>What does the “yield” keyword do?</td>\n",
       "      <td>11024</td>\n",
       "      <td>python iterator generator yield coroutine</td>\n",
       "    </tr>\n",
       "    <tr>\n",
       "      <th>1</th>\n",
       "      <td>What does if __name__ == “__main__”: do?</td>\n",
       "      <td>6701</td>\n",
       "      <td>python namespaces main python-module idioms</td>\n",
       "    </tr>\n",
       "    <tr>\n",
       "      <th>2</th>\n",
       "      <td>Does Python have a ternary conditional operator?</td>\n",
       "      <td>6558</td>\n",
       "      <td>python operators ternary-operator conditional-...</td>\n",
       "    </tr>\n",
       "    <tr>\n",
       "      <th>3</th>\n",
       "      <td>What are metaclasses in Python?</td>\n",
       "      <td>6099</td>\n",
       "      <td>python oop metaclass python-class python-datam...</td>\n",
       "    </tr>\n",
       "    <tr>\n",
       "      <th>4</th>\n",
       "      <td>How do I check whether a file exists without e...</td>\n",
       "      <td>6065</td>\n",
       "      <td>python file file-exists</td>\n",
       "    </tr>\n",
       "  </tbody>\n",
       "</table>\n",
       "</div>"
      ],
      "text/plain": [
       "                                            question  votes  \\\n",
       "0                  What does the “yield” keyword do?  11024   \n",
       "1           What does if __name__ == “__main__”: do?   6701   \n",
       "2   Does Python have a ternary conditional operator?   6558   \n",
       "3                    What are metaclasses in Python?   6099   \n",
       "4  How do I check whether a file exists without e...   6065   \n",
       "\n",
       "                                                tags  \n",
       "0          python iterator generator yield coroutine  \n",
       "1        python namespaces main python-module idioms  \n",
       "2  python operators ternary-operator conditional-...  \n",
       "3  python oop metaclass python-class python-datam...  \n",
       "4                            python file file-exists  "
      ]
     },
     "execution_count": 15,
     "metadata": {},
     "output_type": "execute_result"
    }
   ],
   "source": [
    "df.head()"
   ]
  },
  {
   "cell_type": "code",
   "execution_count": 16,
   "id": "joint-development",
   "metadata": {},
   "outputs": [
    {
     "data": {
      "text/plain": [
       "(500, 3)"
      ]
     },
     "execution_count": 16,
     "metadata": {},
     "output_type": "execute_result"
    }
   ],
   "source": [
    "df.shape"
   ]
  },
  {
   "cell_type": "code",
   "execution_count": 17,
   "id": "devoted-ethernet",
   "metadata": {},
   "outputs": [],
   "source": [
    "df.to_csv('stackoverflow.csv', index=False)"
   ]
  }
 ],
 "metadata": {
  "kernelspec": {
   "display_name": "Python 3",
   "language": "python",
   "name": "python3"
  },
  "language_info": {
   "codemirror_mode": {
    "name": "ipython",
    "version": 3
   },
   "file_extension": ".py",
   "mimetype": "text/x-python",
   "name": "python",
   "nbconvert_exporter": "python",
   "pygments_lexer": "ipython3",
   "version": "3.8.5"
  }
 },
 "nbformat": 4,
 "nbformat_minor": 5
}
